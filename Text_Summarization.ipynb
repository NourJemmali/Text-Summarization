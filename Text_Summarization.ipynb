{
 "cells": [
  {
   "cell_type": "markdown",
   "metadata": {
    "id": "muORSnbVbNqJ"
   },
   "source": [
    "# Building a Text Summarizer"
   ]
  },
  {
   "cell_type": "markdown",
   "metadata": {
    "id": "4gphaKbvbNqM"
   },
   "source": [
    "## Importing required libraries"
   ]
  },
  {
   "cell_type": "code",
   "execution_count": null,
   "metadata": {
    "id": "gVC_a82MbNqN"
   },
   "outputs": [],
   "source": [
    "from sklearn.feature_extraction.text import TfidfVectorizer\n",
    "from spacy.lang.en import English\n",
    "import numpy as np"
   ]
  },
  {
   "cell_type": "markdown",
   "metadata": {
    "id": "DSclZFYfbNqO"
   },
   "source": [
    "## Load spacy model for sentence tokenization"
   ]
  },
  {
   "cell_type": "code",
   "execution_count": null,
   "metadata": {
    "colab": {
     "base_uri": "https://localhost:8080/"
    },
    "id": "yYTI7ZrGbNqO",
    "outputId": "e5135f5f-eab3-49bd-a6ca-12c2c48f0578"
   },
   "outputs": [
    {
     "data": {
      "text/plain": [
       "<spacy.pipeline.sentencizer.Sentencizer at 0x7f82111638c0>"
      ]
     },
     "execution_count": 2,
     "metadata": {},
     "output_type": "execute_result"
    }
   ],
   "source": [
    "nlp = English()\n",
    "nlp.add_pipe('sentencizer')"
   ]
  },
  {
   "cell_type": "code",
   "execution_count": null,
   "metadata": {
    "id": "a6_i3us_bNqO"
   },
   "outputs": [],
   "source": [
    "text_corpus = \"\"\"\n",
    "“Yalla!” It is a lion’s roar of victory that has become synonymous with Tunisian tennis star Ons Jabeur, who went thundering into the Wimbledon final on Thursday when she defeated Tatjana Maria.\n",
    "\n",
    "It took three sets for the 27-year-old to achieve the historic feat of becoming the first woman of north African or Arab descent to reach a grand slam final.\n",
    "\n",
    "In the six years since Jabeur broke into the world’s Top 100 in 2016, the Tunisian star’s ascent has seen a flurry of firsts. In October last year she became the first Arab player – man or woman – in the world’s Top 10. This year she won the Madrid Open, becoming the first Arab or north African woman to win a WTA 1000 event.\n",
    "\n",
    "On Saturday, the new world No 2 faces Elena Rybakina of Kazakhstan in the match of a lifetime, as she plays for her first Wimbledon title.\n",
    "\n",
    "Against a backdrop of looming economic collapse in Tunisia, a country bitterly divided over its future political direction, Jabeur’s success has galvanised a nation with limited historical interest in tennis.\n",
    "\n",
    "Amid the harsh political reality the country faces, the tennis star, christened the “Minister of Happiness” by the press, has been more than needed.\n",
    "\n",
    "At Tennis Club de Tunis, the oldest tennis club in Tunis, established in 1923, where Jabeur trains, the courts are unusually empty.\n",
    "\n",
    "Many have travelled home to celebrate Saturday’s Eid al-Adha, the festival of sacrifice celebrated throughout the Muslim world after the hajj pilgrimage, to mark Abraham’s willingness to sacrifice his son for God.\n",
    "\n",
    "But Saturday’s celebration will be markedly different. The number of young Tunisians playing at Tennis Club de Tunis has risen sharply since Jabeur’s ascent.\n",
    "\n",
    "“Subscriptions to the school of tennis have exploded over the last two years, even through the lockdown and the pandemic,” said Sammi Baccar, the club’s sports director, pointing to a long list of young champions the club has produced. “I have never known tennis be this popular in Tunisia.”\n",
    "\n",
    "At Tennis Club de Tunis, the female champion isn’t simply a distant figure known only through television. She is one of them, drawing spectators to her like moths to the flame whenever she plays.\n",
    "\n",
    "“It’s very important to see that she hasn’t changed a little bit because of the fame,” said Baccar, perched on a plastic chair. “She loves all the little kids. My kids, she always remembers their names and the details of their lives.”\n",
    "\n",
    "Leaving the ladder down for others to climb after her is a personal ambition of Jabeur, as she revealed in an interview with the Guardian last month. “I see myself like I’m on a mission,” she said.\n",
    "\n",
    "“I tell myself I chose to do this. Let’s say, I chose to inspire people. I chose to be the person that I am. I want to share my experience one day and really get more and more generations here.”\n",
    "\n",
    "Over the years, tennis in Tunisia has grown from an elite sport to one that is routinely played and watched with interest in cafes across the country, a shift freelance sports journalist Souhail Khmira attributes directly to Jabeur’s success.\n",
    "\n",
    "“Lots of Tunisian women have always competed in athletics at the highest level,” Khmira said.\n",
    "\n",
    "“Sporting success isn’t just for men. However, Ons has shed more light on that. She’s walked in the footsteps of all those women and paved the way for a lot of young girls to follow. They’ve watched her, this middle class girl, and the obstacles she faced and overcame.”\n",
    "\n",
    "Playing inside Tennis Club de Tunis’s maze of courts, 14-year-old Sarah Boughzala will be among the millions of Tunisian teenagers who will be watching the final tomorrow, and an admirer of one of Jabeur’s favourite techniques. “Her drop shot is very good. She knows how to use it to win,” she said.\n",
    "\n",
    "To the millions of young Tunisian girls watching, the message Jabeur sends is resoundingly clear. “She’s very inspiring and one day I want to be just like her,” says 12-year-old Fatma Hamdouni, smiling at the mention of Jabeur’s name. “She can do anything she wants. She just needs to believe in herself.”\"\"\""
   ]
  },
  {
   "cell_type": "code",
   "execution_count": null,
   "metadata": {},
   "outputs": [],
   "source": []
  },
  {
   "cell_type": "markdown",
   "metadata": {
    "id": "FMs8aw5WbNqU"
   },
   "source": [
    "## Result / Summary"
   ]
  },
  {
   "cell_type": "code",
   "execution_count": null,
   "metadata": {
    "id": "zxgxylEiVrCZ"
   },
   "outputs": [],
   "source": []
  },
  {
   "cell_type": "code",
   "execution_count": null,
   "metadata": {
    "colab": {
     "base_uri": "https://localhost:8080/"
    },
    "id": "Qevjb7KHbNqU",
    "outputId": "f497d809-a6f2-4fc6-cb4f-e9f1370166d7"
   },
   "outputs": [
    {
     "name": "stdout",
     "output_type": "stream",
     "text": [
      "Summary: \n",
      " The number of young Tunisians playing at Tennis Club de Tunis has risen sharply since Jabeur’s ascent. ”Over the years, tennis in Tunisia has grown from an elite sport to one that is routinely played and watched with interest in cafes across the country, a shift freelance sports journalist Souhail Khmira attributes directly to Jabeur’s success. ”Playing inside Tennis Club de Tunis’s maze of courts, 14-year-old Sarah Boughzala will be among the millions of Tunisian teenagers who will be watching the final tomorrow, and an admirer of one of Jabeur’s favourite techniques. “\n"
     ]
    }
   ],
   "source": [
    "print(\"Summary: \\n\", summary)"
   ]
  },
  {
   "cell_type": "markdown",
   "metadata": {
    "id": "Fn77MYiKbNqU"
   },
   "source": [
    "## Creating a function summarizer"
   ]
  },
  {
   "cell_type": "code",
   "execution_count": null,
   "metadata": {
    "colab": {
     "base_uri": "https://localhost:8080/"
    },
    "id": "m5WBTIHWbNqV",
    "outputId": "09e0851a-2028-450e-d47a-8fb0b5af206a"
   },
   "outputs": [
    {
     "name": "stdout",
     "output_type": "stream",
     "text": [
      "Summarizer Result: \n",
      " The number of young Tunisians playing at Tennis Club de Tunis has risen sharply since Jabeur’s ascent. ”Over the years, tennis in Tunisia has grown from an elite sport to one that is routinely played and watched with interest in cafes across the country, a shift freelance sports journalist Souhail Khmira attributes directly to Jabeur’s success. ”Playing inside Tennis Club de Tunis’s maze of courts, 14-year-old Sarah Boughzala will be among the millions of Tunisian teenagers who will be watching the final tomorrow, and an admirer of one of Jabeur’s favourite techniques. “\n"
     ]
    }
   ],
   "source": [
    "print(\"Summarizer Result: \\n\", summarizer(text=text_corpus, tokenizer=nlp, max_sent_in_summary=3))"
   ]
  },
  {
   "cell_type": "markdown",
   "metadata": {
    "id": "dlo-mlTGbNqV"
   },
   "source": [
    "# Pretrained text summarization models "
   ]
  },
  {
   "cell_type": "markdown",
   "metadata": {
    "id": "ALpy3IAbbNqV"
   },
   "source": [
    "## Extractive"
   ]
  },
  {
   "cell_type": "markdown",
   "metadata": {
    "id": "rTrfY9EzbNqV"
   },
   "source": [
    "### Text Rank"
   ]
  },
  {
   "cell_type": "code",
   "execution_count": null,
   "metadata": {
    "id": "XdGI0g4YbNqV",
    "scrolled": true
   },
   "outputs": [],
   "source": [
    "import gensim\n",
    "from gensim.summarization import summarize"
   ]
  },
  {
   "cell_type": "code",
   "execution_count": null,
   "metadata": {
    "colab": {
     "base_uri": "https://localhost:8080/"
    },
    "id": "isMym9HubNqW",
    "outputId": "bbf3f79b-f477-4e1b-ab64-d5397ef0d190"
   },
   "outputs": [
    {
     "name": "stdout",
     "output_type": "stream",
     "text": [
      "“Yalla!” It is a lion’s roar of victory that has become synonymous with Tunisian tennis star Ons Jabeur, who went thundering into the Wimbledon final on Thursday when she defeated Tatjana Maria.\n",
      "It took three sets for the 27-year-old to achieve the historic feat of becoming the first woman of north African or Arab descent to reach a grand slam final.\n",
      "In the six years since Jabeur broke into the world’s Top 100 in 2016, the Tunisian star’s ascent has seen a flurry of firsts.\n",
      "Against a backdrop of looming economic collapse in Tunisia, a country bitterly divided over its future political direction, Jabeur’s success has galvanised a nation with limited historical interest in tennis.\n",
      "Amid the harsh political reality the country faces, the tennis star, christened the “Minister of Happiness” by the press, has been more than needed.\n",
      "The number of young Tunisians playing at Tennis Club de Tunis has risen sharply since Jabeur’s ascent.\n",
      "“Subscriptions to the school of tennis have exploded over the last two years, even through the lockdown and the pandemic,” said Sammi Baccar, the club’s sports director, pointing to a long list of young champions the club has produced.\n",
      "Over the years, tennis in Tunisia has grown from an elite sport to one that is routinely played and watched with interest in cafes across the country, a shift freelance sports journalist Souhail Khmira attributes directly to Jabeur’s success.\n",
      "Playing inside Tennis Club de Tunis’s maze of courts, 14-year-old Sarah Boughzala will be among the millions of Tunisian teenagers who will be watching the final tomorrow, and an admirer of one of Jabeur’s favourite techniques.\n",
      "To the millions of young Tunisian girls watching, the message Jabeur sends is resoundingly clear.\n",
      "“She’s very inspiring and one day I want to be just like her,” says 12-year-old Fatma Hamdouni, smiling at the mention of Jabeur’s name.\n"
     ]
    }
   ],
   "source": [
    "# Passing the text corpus to summarizer \n",
    "short_summary = summarize(text_corpus,ratio=0.5,word_count=300)\n",
    "print(short_summary)"
   ]
  },
  {
   "cell_type": "markdown",
   "metadata": {
    "id": "6OEr_q8UixFZ"
   },
   "source": [
    "### Text Summarization with Sumy\n"
   ]
  },
  {
   "cell_type": "code",
   "execution_count": null,
   "metadata": {
    "colab": {
     "base_uri": "https://localhost:8080/"
    },
    "id": "JhniI2seiHgA",
    "outputId": "2b5e61ef-cca5-4677-8baf-52c6d5dfc3d6"
   },
   "outputs": [
    {
     "name": "stdout",
     "output_type": "stream",
     "text": [
      "Looking in indexes: https://pypi.org/simple, https://us-python.pkg.dev/colab-wheels/public/simple/\n",
      "Collecting sumy\n",
      "  Downloading sumy-0.11.0-py2.py3-none-any.whl (97 kB)\n",
      "\u001b[K     |████████████████████████████████| 97 kB 3.0 MB/s \n",
      "\u001b[?25hCollecting breadability>=0.1.20\n",
      "  Downloading breadability-0.1.20.tar.gz (32 kB)\n",
      "Requirement already satisfied: requests>=2.7.0 in /usr/local/lib/python3.7/dist-packages (from sumy) (2.23.0)\n",
      "Collecting docopt<0.7,>=0.6.1\n",
      "  Downloading docopt-0.6.2.tar.gz (25 kB)\n",
      "Collecting pycountry>=18.2.23\n",
      "  Downloading pycountry-22.3.5.tar.gz (10.1 MB)\n",
      "\u001b[K     |████████████████████████████████| 10.1 MB 10.3 MB/s \n",
      "\u001b[?25h  Installing build dependencies ... \u001b[?25l\u001b[?25hdone\n",
      "  Getting requirements to build wheel ... \u001b[?25l\u001b[?25hdone\n",
      "    Preparing wheel metadata ... \u001b[?25l\u001b[?25hdone\n",
      "Requirement already satisfied: nltk>=3.0.2 in /usr/local/lib/python3.7/dist-packages (from sumy) (3.7)\n",
      "Requirement already satisfied: chardet in /usr/local/lib/python3.7/dist-packages (from breadability>=0.1.20->sumy) (3.0.4)\n",
      "Requirement already satisfied: lxml>=2.0 in /usr/local/lib/python3.7/dist-packages (from breadability>=0.1.20->sumy) (4.9.1)\n",
      "Requirement already satisfied: tqdm in /usr/local/lib/python3.7/dist-packages (from nltk>=3.0.2->sumy) (4.64.1)\n",
      "Requirement already satisfied: regex>=2021.8.3 in /usr/local/lib/python3.7/dist-packages (from nltk>=3.0.2->sumy) (2022.6.2)\n",
      "Requirement already satisfied: click in /usr/local/lib/python3.7/dist-packages (from nltk>=3.0.2->sumy) (7.1.2)\n",
      "Requirement already satisfied: joblib in /usr/local/lib/python3.7/dist-packages (from nltk>=3.0.2->sumy) (1.2.0)\n",
      "Requirement already satisfied: setuptools in /usr/local/lib/python3.7/dist-packages (from pycountry>=18.2.23->sumy) (57.4.0)\n",
      "Requirement already satisfied: certifi>=2017.4.17 in /usr/local/lib/python3.7/dist-packages (from requests>=2.7.0->sumy) (2022.9.24)\n",
      "Requirement already satisfied: idna<3,>=2.5 in /usr/local/lib/python3.7/dist-packages (from requests>=2.7.0->sumy) (2.10)\n",
      "Requirement already satisfied: urllib3!=1.25.0,!=1.25.1,<1.26,>=1.21.1 in /usr/local/lib/python3.7/dist-packages (from requests>=2.7.0->sumy) (1.24.3)\n",
      "Building wheels for collected packages: breadability, docopt, pycountry\n",
      "  Building wheel for breadability (setup.py) ... \u001b[?25l\u001b[?25hdone\n",
      "  Created wheel for breadability: filename=breadability-0.1.20-py2.py3-none-any.whl size=21711 sha256=5b09a87faf0e77285be28a37be757cbf8285d326deaa87a8f2db4771d5312be2\n",
      "  Stored in directory: /root/.cache/pip/wheels/d4/bf/51/81d27ad638e1a6dca4f362ecc33d1e2c764b8ea7ec751b8fc1\n",
      "  Building wheel for docopt (setup.py) ... \u001b[?25l\u001b[?25hdone\n",
      "  Created wheel for docopt: filename=docopt-0.6.2-py2.py3-none-any.whl size=13723 sha256=fb13123ee0b50ec43d7e5a269323eedf47c142c6b300218baf6a88a1e9d87846\n",
      "  Stored in directory: /root/.cache/pip/wheels/72/b0/3f/1d95f96ff986c7dfffe46ce2be4062f38ebd04b506c77c81b9\n",
      "  Building wheel for pycountry (PEP 517) ... \u001b[?25l\u001b[?25hdone\n",
      "  Created wheel for pycountry: filename=pycountry-22.3.5-py2.py3-none-any.whl size=10681845 sha256=82725e57a698cce7bcd18b4b2463efa80778d6ae65aefa316fba3ebd90952620\n",
      "  Stored in directory: /root/.cache/pip/wheels/0e/06/e8/7ee176e95ea9a8a8c3b3afcb1869f20adbd42413d4611c6eb4\n",
      "Successfully built breadability docopt pycountry\n",
      "Installing collected packages: docopt, pycountry, breadability, sumy\n",
      "Successfully installed breadability-0.1.20 docopt-0.6.2 pycountry-22.3.5 sumy-0.11.0\n"
     ]
    }
   ],
   "source": [
    "!pip install sumy"
   ]
  },
  {
   "cell_type": "code",
   "execution_count": null,
   "metadata": {
    "id": "z2wh--Uqi_ag"
   },
   "outputs": [],
   "source": [
    "import sumy \n"
   ]
  },
  {
   "cell_type": "code",
   "execution_count": null,
   "metadata": {
    "colab": {
     "base_uri": "https://localhost:8080/"
    },
    "id": "EVU52rEZkPtN",
    "outputId": "4273af97-08ab-49d0-f91f-8f8664f7fa1e"
   },
   "outputs": [
    {
     "name": "stderr",
     "output_type": "stream",
     "text": [
      "[nltk_data] Downloading package punkt to /root/nltk_data...\n",
      "[nltk_data]   Unzipping tokenizers/punkt.zip.\n"
     ]
    },
    {
     "data": {
      "text/plain": [
       "True"
      ]
     },
     "execution_count": 21,
     "metadata": {},
     "output_type": "execute_result"
    }
   ],
   "source": [
    "import nltk\n",
    "nltk.download('punkt')\n"
   ]
  },
  {
   "cell_type": "code",
   "execution_count": null,
   "metadata": {
    "id": "mmkf2vLxjM7g"
   },
   "outputs": [],
   "source": [
    "# Importing the parser and tokenizer\n",
    "from sumy.parsers.plaintext import PlaintextParser\n",
    "from sumy.nlp.tokenizers import Tokenizer\n",
    "# Import the LexRank summarizer\n",
    "from sumy.summarizers.lex_rank import LexRankSummarizer\n",
    "# Initializing the parser\n",
    "my_parser = PlaintextParser.from_string(text_corpus,Tokenizer('english'))"
   ]
  },
  {
   "cell_type": "markdown",
   "metadata": {
    "id": "NWo44G_TjWsB"
   },
   "source": [
    "#### LexRank"
   ]
  },
  {
   "cell_type": "code",
   "execution_count": null,
   "metadata": {
    "colab": {
     "base_uri": "https://localhost:8080/"
    },
    "id": "B--rjnSVjmsn",
    "outputId": "2c522ea6-d6e6-4da6-87a2-7b5ee6eb3148"
   },
   "outputs": [
    {
     "name": "stdout",
     "output_type": "stream",
     "text": [
      "In the six years since Jabeur broke into the world’s Top 100 in 2016, the Tunisian star’s ascent has seen a flurry of firsts.\n",
      "In October last year she became the first Arab player – man or woman – in the world’s Top 10.\n",
      "This year she won the Madrid Open, becoming the first Arab or north African woman to win a WTA 1000 event.\n",
      "Against a backdrop of looming economic collapse in Tunisia, a country bitterly divided over its future political direction, Jabeur’s success has galvanised a nation with limited historical interest in tennis.\n",
      "At Tennis Club de Tunis, the female champion isn’t simply a distant figure known only through television.\n",
      "“I see myself like I’m on a mission,” she said.\n",
      "“I tell myself I chose to do this.\n",
      "She’s walked in the footsteps of all those women and paved the way for a lot of young girls to follow.\n",
      "Playing inside Tennis Club de Tunis’s maze of courts, 14-year-old Sarah Boughzala will be among the millions of Tunisian teenagers who will be watching the final tomorrow, and an admirer of one of Jabeur’s favourite techniques.\n",
      "“She’s very inspiring and one day I want to be just like her,” says 12-year-old Fatma Hamdouni, smiling at the mention of Jabeur’s name.\n"
     ]
    }
   ],
   "source": [
    "# Creating a summary of 3 sentences.\n",
    "lex_rank_summarizer = LexRankSummarizer()\n",
    "lexrank_summary = lex_rank_summarizer(my_parser.document,sentences_count=10)\n",
    "# Printing the summary\n",
    "for sentence in lexrank_summary:\n",
    "  print(sentence)"
   ]
  },
  {
   "cell_type": "markdown",
   "metadata": {
    "id": "Qn4DwAx8mosy"
   },
   "source": [
    "#### français"
   ]
  },
  {
   "cell_type": "code",
   "execution_count": null,
   "metadata": {
    "colab": {
     "base_uri": "https://localhost:8080/"
    },
    "id": "7Iby7MU5lBwF",
    "outputId": "6c35158f-8f58-4625-d1bb-e8f6082f8591"
   },
   "outputs": [
    {
     "name": "stdout",
     "output_type": "stream",
     "text": [
      "En la recevant au Palais présidentiel de Carthage, avec son entraîneur et son mari qui est aussi son préparateur physique, le chef de l'Etat a voulu la remercier avec cette décoration prestigieuse pour avoir hissé «haut le drapeau du pays dans les évènements sportifs internationaux».\n",
      "«Elle a été l'ambassadrice de la Tunisie» et a montré «la capacité de notre jeunesse à briller dans tous les domaines quand les moyens et les conditions nécessaires lui sont fournies», selon un communiqué officiel.\n",
      "«Félicitations pour cette réussite et les prochaines réussites.\n"
     ]
    }
   ],
   "source": [
    "text='''En la recevant au Palais présidentiel de Carthage, avec son entraîneur et son mari qui est aussi son préparateur physique, le chef de l'Etat a voulu la remercier avec cette décoration prestigieuse pour avoir hissé «haut le drapeau du pays dans les évènements sportifs internationaux».\n",
    "\n",
    "«Elle a été l'ambassadrice de la Tunisie» et a montré «la capacité de notre jeunesse à briller dans tous les domaines quand les moyens et les conditions nécessaires lui sont fournies», selon un communiqué officiel.\n",
    "\n",
    "«Félicitations pour cette réussite et les prochaines réussites. Vous donnez une image aux jeunes Tunisiens et de la femme tunisienne qui relève tous les défis», lui a dit le président Kais Saïed, en lui décernant la médaille.\n",
    "\n",
    "Jabeur, surnommée «ministre du bonheur» en Tunisie, est devenue la première Arabe et Africaine à atteindre la finale d'un tournoi du Grand Chelem, après avoir battu l'Allemande Maria Tatiana en demi-finale à Wimbledon.'''\n",
    "my_parser_fr = PlaintextParser.from_string(text,Tokenizer('french'))\n",
    "# Creating a summary of 3 sentences.\n",
    "lex_rank_summarizer = LexRankSummarizer()\n",
    "lexrank_summary = lex_rank_summarizer(my_parser_fr.document,sentences_count=3)\n",
    "# Printing the summary\n",
    "for sentence in lexrank_summary:\n",
    "  print(sentence)"
   ]
  },
  {
   "cell_type": "code",
   "execution_count": null,
   "metadata": {
    "colab": {
     "base_uri": "https://localhost:8080/"
    },
    "id": "P996P5mdl1FB",
    "outputId": "a26b8469-f846-4358-a8a1-52141a29602b"
   },
   "outputs": [
    {
     "data": {
      "text/plain": [
       "True"
      ]
     },
     "execution_count": 25,
     "metadata": {},
     "output_type": "execute_result"
    }
   ],
   "source": [
    "str(sentence) in text"
   ]
  },
  {
   "cell_type": "markdown",
   "metadata": {
    "id": "5m5iYyP-nc5Y"
   },
   "source": [
    "#### LSA (Latent semantic analysis)"
   ]
  },
  {
   "cell_type": "code",
   "execution_count": null,
   "metadata": {
    "id": "rDzW5qS1niHN"
   },
   "outputs": [],
   "source": [
    "#Import the Summarizer\n",
    "from sumy.summarizers.lsa import LsaSummarizer"
   ]
  },
  {
   "cell_type": "code",
   "execution_count": null,
   "metadata": {
    "colab": {
     "base_uri": "https://localhost:8080/"
    },
    "id": "whg26ZqgoFjC",
    "outputId": "b3e420ba-5499-476e-df87-0835d5f3d8d9"
   },
   "outputs": [
    {
     "name": "stdout",
     "output_type": "stream",
     "text": [
      "“Yalla!” It is a lion’s roar of victory that has become synonymous with Tunisian tennis star Ons Jabeur, who went thundering into the Wimbledon final on Thursday when she defeated Tatjana Maria.\n",
      "It took three sets for the 27-year-old to achieve the historic feat of becoming the first woman of north African or Arab descent to reach a grand slam final.\n",
      "In October last year she became the first Arab player – man or woman – in the world’s Top 10.\n",
      "This year she won the Madrid Open, becoming the first Arab or north African woman to win a WTA 1000 event.\n",
      "On Saturday, the new world No 2 faces Elena Rybakina of Kazakhstan in the match of a lifetime, as she plays for her first Wimbledon title.\n",
      "Against a backdrop of looming economic collapse in Tunisia, a country bitterly divided over its future political direction, Jabeur’s success has galvanised a nation with limited historical interest in tennis.\n",
      "At Tennis Club de Tunis, the oldest tennis club in Tunis, established in 1923, where Jabeur trains, the courts are unusually empty.\n",
      "Many have travelled home to celebrate Saturday’s Eid al-Adha, the festival of sacrifice celebrated throughout the Muslim world after the hajj pilgrimage, to mark Abraham’s willingness to sacrifice his son for God.\n",
      "But Saturday’s celebration will be markedly different.\n",
      "The number of young Tunisians playing at Tennis Club de Tunis has risen sharply since Jabeur’s ascent.\n",
      "“I have never known tennis be this popular in Tunisia.”\n",
      "At Tennis Club de Tunis, the female champion isn’t simply a distant figure known only through television.\n",
      "“It’s very important to see that she hasn’t changed a little bit because of the fame,” said Baccar, perched on a plastic chair.\n",
      "Leaving the ladder down for others to climb after her is a personal ambition of Jabeur, as she revealed in an interview with the Guardian last month.\n",
      "Let’s say, I chose to inspire people.\n",
      "Over the years, tennis in Tunisia has grown from an elite sport to one that is routinely played and watched with interest in cafes across the country, a shift freelance sports journalist Souhail Khmira attributes directly to Jabeur’s success.\n",
      "“Lots of Tunisian women have always competed in athletics at the highest level,” Khmira said.\n",
      "However, Ons has shed more light on that.\n",
      "She’s walked in the footsteps of all those women and paved the way for a lot of young girls to follow.\n",
      "“She’s very inspiring and one day I want to be just like her,” says 12-year-old Fatma Hamdouni, smiling at the mention of Jabeur’s name.\n"
     ]
    }
   ],
   "source": [
    "# creating the summarizer\n",
    "lsa_summarizer=LsaSummarizer()\n",
    "lsa_summary=lsa_summarizer(my_parser.document,20)\n",
    "# Printing the summary\n",
    "for sentence in lsa_summary:\n",
    "    print(sentence)"
   ]
  },
  {
   "cell_type": "markdown",
   "metadata": {
    "id": "MPfdSQIrpyL1"
   },
   "source": [
    "#### Luhn"
   ]
  },
  {
   "cell_type": "code",
   "execution_count": null,
   "metadata": {
    "id": "yRQO-mhjpv6c"
   },
   "outputs": [],
   "source": [
    "# Import the summarizer\n",
    "from sumy.summarizers.luhn import LuhnSummarizer"
   ]
  },
  {
   "cell_type": "code",
   "execution_count": null,
   "metadata": {
    "colab": {
     "base_uri": "https://localhost:8080/"
    },
    "id": "R6y2lNfkp83V",
    "outputId": "6b5eec32-e866-41dd-ad3a-2a89702b3376"
   },
   "outputs": [
    {
     "name": "stdout",
     "output_type": "stream",
     "text": [
      "“Yalla!” It is a lion’s roar of victory that has become synonymous with Tunisian tennis star Ons Jabeur, who went thundering into the Wimbledon final on Thursday when she defeated Tatjana Maria.\n",
      "It took three sets for the 27-year-old to achieve the historic feat of becoming the first woman of north African or Arab descent to reach a grand slam final.\n",
      "In the six years since Jabeur broke into the world’s Top 100 in 2016, the Tunisian star’s ascent has seen a flurry of firsts.\n",
      "In October last year she became the first Arab player – man or woman – in the world’s Top 10.\n",
      "This year she won the Madrid Open, becoming the first Arab or north African woman to win a WTA 1000 event.\n",
      "On Saturday, the new world No 2 faces Elena Rybakina of Kazakhstan in the match of a lifetime, as she plays for her first Wimbledon title.\n",
      "Against a backdrop of looming economic collapse in Tunisia, a country bitterly divided over its future political direction, Jabeur’s success has galvanised a nation with limited historical interest in tennis.\n",
      "Amid the harsh political reality the country faces, the tennis star, christened the “Minister of Happiness” by the press, has been more than needed.\n",
      "At Tennis Club de Tunis, the oldest tennis club in Tunis, established in 1923, where Jabeur trains, the courts are unusually empty.\n",
      "Many have travelled home to celebrate Saturday’s Eid al-Adha, the festival of sacrifice celebrated throughout the Muslim world after the hajj pilgrimage, to mark Abraham’s willingness to sacrifice his son for God.\n",
      "The number of young Tunisians playing at Tennis Club de Tunis has risen sharply since Jabeur’s ascent.\n",
      "“Subscriptions to the school of tennis have exploded over the last two years, even through the lockdown and the pandemic,” said Sammi Baccar, the club’s sports director, pointing to a long list of young champions the club has produced.\n",
      "“It’s very important to see that she hasn’t changed a little bit because of the fame,” said Baccar, perched on a plastic chair.\n",
      "Leaving the ladder down for others to climb after her is a personal ambition of Jabeur, as she revealed in an interview with the Guardian last month.\n",
      "“I see myself like I’m on a mission,” she said.\n",
      "Over the years, tennis in Tunisia has grown from an elite sport to one that is routinely played and watched with interest in cafes across the country, a shift freelance sports journalist Souhail Khmira attributes directly to Jabeur’s success.\n",
      "She’s walked in the footsteps of all those women and paved the way for a lot of young girls to follow.\n",
      "Playing inside Tennis Club de Tunis’s maze of courts, 14-year-old Sarah Boughzala will be among the millions of Tunisian teenagers who will be watching the final tomorrow, and an admirer of one of Jabeur’s favourite techniques.\n",
      "To the millions of young Tunisian girls watching, the message Jabeur sends is resoundingly clear.\n",
      "“She’s very inspiring and one day I want to be just like her,” says 12-year-old Fatma Hamdouni, smiling at the mention of Jabeur’s name.\n"
     ]
    }
   ],
   "source": [
    "#  Creating the summarizer\n",
    "luhn_summarizer=LuhnSummarizer()\n",
    "luhn_summary=luhn_summarizer(my_parser.document,sentences_count=20)\n",
    "# Printing the summary\n",
    "for sentence in luhn_summary:\n",
    "    print(sentence)"
   ]
  },
  {
   "cell_type": "markdown",
   "metadata": {
    "id": "h_cWEsxZaWiV"
   },
   "source": [
    "#### KL-Sum"
   ]
  },
  {
   "cell_type": "code",
   "execution_count": null,
   "metadata": {
    "colab": {
     "base_uri": "https://localhost:8080/"
    },
    "id": "BPawiP4PqG-H",
    "outputId": "986b546c-8f68-4e35-b8b7-2785a1849d23"
   },
   "outputs": [
    {
     "name": "stdout",
     "output_type": "stream",
     "text": [
      "It took three sets for the 27-year-old to achieve the historic feat of becoming the first woman of north African or Arab descent to reach a grand slam final.\n",
      "In the six years since Jabeur broke into the world’s Top 100 in 2016, the Tunisian star’s ascent has seen a flurry of firsts.\n",
      "Against a backdrop of looming economic collapse in Tunisia, a country bitterly divided over its future political direction, Jabeur’s success has galvanised a nation with limited historical interest in tennis.\n",
      "Amid the harsh political reality the country faces, the tennis star, christened the “Minister of Happiness” by the press, has been more than needed.\n",
      "At Tennis Club de Tunis, the oldest tennis club in Tunis, established in 1923, where Jabeur trains, the courts are unusually empty.\n",
      "Many have travelled home to celebrate Saturday’s Eid al-Adha, the festival of sacrifice celebrated throughout the Muslim world after the hajj pilgrimage, to mark Abraham’s willingness to sacrifice his son for God.\n",
      "But Saturday’s celebration will be markedly different.\n",
      "The number of young Tunisians playing at Tennis Club de Tunis has risen sharply since Jabeur’s ascent.\n",
      "“Subscriptions to the school of tennis have exploded over the last two years, even through the lockdown and the pandemic,” said Sammi Baccar, the club’s sports director, pointing to a long list of young champions the club has produced.\n",
      "“I have never known tennis be this popular in Tunisia.”\n",
      "At Tennis Club de Tunis, the female champion isn’t simply a distant figure known only through television.\n",
      "“I tell myself I chose to do this.\n",
      "Let’s say, I chose to inspire people.\n",
      "I chose to be the person that I am.\n",
      "I want to share my experience one day and really get more and more generations here.”\n",
      "Over the years, tennis in Tunisia has grown from an elite sport to one that is routinely played and watched with interest in cafes across the country, a shift freelance sports journalist Souhail Khmira attributes directly to Jabeur’s success.\n",
      "“Lots of Tunisian women have always competed in athletics at the highest level,” Khmira said.\n",
      "“Sporting success isn’t just for men.\n",
      "However, Ons has shed more light on that.\n",
      "“Her drop shot is very good.\n"
     ]
    }
   ],
   "source": [
    "from sumy.summarizers.kl import KLSummarizer\n",
    "# Instantiating the  KLSummarizer\n",
    "kl_summarizer=KLSummarizer()\n",
    "kl_summary=kl_summarizer(my_parser.document,sentences_count=20)\n",
    "\n",
    "# Printing the summary\n",
    "for sentence in kl_summary:\n",
    "    print(sentence)"
   ]
  },
  {
   "cell_type": "code",
   "execution_count": null,
   "metadata": {
    "colab": {
     "base_uri": "https://localhost:8080/",
     "height": 167
    },
    "id": "V6Z6px9ic10X",
    "outputId": "ebb0eaec-5245-4d3a-c4b5-068cb1e9c784"
   },
   "outputs": [
    {
     "ename": "NameError",
     "evalue": "ignored",
     "output_type": "error",
     "traceback": [
      "\u001b[0;31m---------------------------------------------------------------------------\u001b[0m",
      "\u001b[0;31mNameError\u001b[0m                                 Traceback (most recent call last)",
      "\u001b[0;32m<ipython-input-31-069f4ce0bf1b>\u001b[0m in \u001b[0;36m<module>\u001b[0;34m\u001b[0m\n\u001b[0;32m----> 1\u001b[0;31m \u001b[0mstr\u001b[0m\u001b[0;34m(\u001b[0m\u001b[0msentence\u001b[0m\u001b[0;34m)\u001b[0m \u001b[0;32min\u001b[0m \u001b[0moriginal_text\u001b[0m\u001b[0;34m\u001b[0m\u001b[0;34m\u001b[0m\u001b[0m\n\u001b[0m",
      "\u001b[0;31mNameError\u001b[0m: name 'original_text' is not defined"
     ]
    }
   ],
   "source": [
    "str(sentence) in original_text"
   ]
  },
  {
   "cell_type": "markdown",
   "metadata": {
    "id": "niTUWnj6dLwk"
   },
   "source": [
    "## Abstractive Text Summarization"
   ]
  },
  {
   "cell_type": "code",
   "execution_count": null,
   "metadata": {
    "id": "HeLJQwZNd5hZ"
   },
   "outputs": [],
   "source": [
    "!pip install transformers"
   ]
  },
  {
   "cell_type": "markdown",
   "metadata": {
    "id": "u6bC7Pn6eS-D"
   },
   "source": [
    "### T5"
   ]
  },
  {
   "cell_type": "code",
   "execution_count": null,
   "metadata": {
    "id": "MM1BzlAgeXjc"
   },
   "outputs": [],
   "source": [
    "#import\n",
    "from transformers import T5Tokenizer, T5Config, T5ForConditionalGeneration\n"
   ]
  },
  {
   "cell_type": "code",
   "execution_count": null,
   "metadata": {
    "id": "_qZIW6rbe0kJ"
   },
   "outputs": [],
   "source": [
    "!pip install sentencepiece"
   ]
  },
  {
   "cell_type": "markdown",
   "metadata": {
    "id": "u4mnYXr3i0rt"
   },
   "source": [
    "**!!!!!!!!!!!!!!!!!!!!!!!always restart , T5 depend to sentencepiece!!!!!!!!!!!!!!!!!!**"
   ]
  },
  {
   "cell_type": "code",
   "execution_count": null,
   "metadata": {
    "id": "7dg2mJ0redvA"
   },
   "outputs": [],
   "source": [
    "# Instantiating the model and tokenizer \n",
    "my_model = T5ForConditionalGeneration.from_pretrained('t5-small')\n",
    "tokenizer = T5Tokenizer.from_pretrained('t5-small')"
   ]
  },
  {
   "cell_type": "code",
   "execution_count": null,
   "metadata": {
    "id": "duIVu-PnibQG"
   },
   "outputs": [],
   "source": [
    "# Concatenating the word \"summarize:\" to raw text\n",
    "text = \"summarize:\" + text_corpus"
   ]
  },
  {
   "cell_type": "code",
   "execution_count": null,
   "metadata": {
    "id": "n6xmnA4Fiu6J"
   },
   "outputs": [],
   "source": [
    "# encoding the input text\n",
    "input_ids=tokenizer.encode(text, return_tensors='pt', max_length=512,truncation=True)\n",
    "# Generating summary ids\n",
    "summary_ids = my_model.generate(input_ids)\n",
    "summary_ids"
   ]
  },
  {
   "cell_type": "code",
   "execution_count": null,
   "metadata": {
    "id": "CHlIPpUEkEnK"
   },
   "outputs": [],
   "source": [
    "# Decoding the tensor and printing the summary.\n",
    "t5_summary = tokenizer.decode(summary_ids[0])\n",
    "print(t5_summary)"
   ]
  },
  {
   "cell_type": "markdown",
   "metadata": {
    "id": "NNcSJgNnlQF3"
   },
   "source": [
    "###BART"
   ]
  },
  {
   "cell_type": "code",
   "execution_count": null,
   "metadata": {
    "id": "b4T_KR24lWK9"
   },
   "outputs": [],
   "source": [
    "# Importing the model\n",
    "from transformers import BartForConditionalGeneration, BartTokenizer, BartConfig\n",
    "# Loading the model and tokenizer for bart-large-cnn\n",
    "\n",
    "tokenizer=BartTokenizer.from_pretrained('facebook/bart-large-cnn')\n",
    "model=BartForConditionalGeneration.from_pretrained('facebook/bart-large-cnn')"
   ]
  },
  {
   "cell_type": "code",
   "execution_count": null,
   "metadata": {
    "id": "OVcS55KAmUJx"
   },
   "outputs": [],
   "source": [
    "# Encoding the inputs and passing them to model.generate()\n",
    "inputs = tokenizer.batch_encode_plus([text_corpus],return_tensors='pt')\n",
    "summary_ids = model.generate(inputs['input_ids'], early_stopping=True)"
   ]
  },
  {
   "cell_type": "markdown",
   "metadata": {
    "id": "jb8fln4hkgQ_"
   },
   "source": [
    "**!!!!!!!!!!!!!!!!! takes a lot of time while running !!!!!!!!!!!!!!!!**"
   ]
  },
  {
   "cell_type": "code",
   "execution_count": null,
   "metadata": {
    "id": "RJYOWFRZmftL"
   },
   "outputs": [],
   "source": [
    "# Decoding and printing the summary\n",
    "bart_summary = tokenizer.decode(summary_ids[0], skip_special_tokens=True)\n",
    "print(bart_summary)"
   ]
  },
  {
   "cell_type": "markdown",
   "metadata": {
    "id": "_Kn_7DIQnrlq"
   },
   "source": [
    "### GPT-2 "
   ]
  },
  {
   "cell_type": "code",
   "execution_count": null,
   "metadata": {
    "id": "EJ-8sFI4ntws"
   },
   "outputs": [],
   "source": [
    "# Importing model and tokenizer\n",
    "from transformers import GPT2Tokenizer,GPT2LMHeadModel\n",
    "# Instantiating the model and tokenizer with gpt-2\n",
    "tokenizer=GPT2Tokenizer.from_pretrained('gpt2')\n",
    "model=GPT2LMHeadModel.from_pretrained('gpt2')"
   ]
  },
  {
   "cell_type": "code",
   "execution_count": null,
   "metadata": {
    "id": "T5jjWcCPn8nj"
   },
   "outputs": [],
   "source": [
    "# Encoding text to get input ids & pass them to model.generate()\n",
    "inputs=tokenizer.batch_encode_plus([text_corpus],return_tensors='pt',max_length=300,truncation=True)\n",
    "summary_ids=model.generate(inputs['input_ids'],early_stopping=True)\n",
    "summary_ids"
   ]
  },
  {
   "cell_type": "code",
   "execution_count": null,
   "metadata": {
    "id": "3N3CAOtvoc0y"
   },
   "outputs": [],
   "source": [
    "# Decoding and printing summary\n",
    "\n",
    "GPT_summary=tokenizer.decode(summary_ids[0],skip_special_tokens=True)\n",
    "print(GPT_summary)"
   ]
  },
  {
   "cell_type": "markdown",
   "metadata": {
    "id": "0N37htd8ngXL"
   },
   "source": [
    "# Articles Data"
   ]
  },
  {
   "cell_type": "markdown",
   "metadata": {
    "id": "ivI-AlPbA1ZY"
   },
   "source": [
    "## kaggle env installation"
   ]
  },
  {
   "cell_type": "code",
   "execution_count": null,
   "metadata": {
    "id": "EZPs5yXapqJf"
   },
   "outputs": [],
   "source": [
    "! pip install -q kaggle"
   ]
  },
  {
   "cell_type": "code",
   "execution_count": null,
   "metadata": {
    "colab": {
     "base_uri": "https://localhost:8080/"
    },
    "id": "CZLwDFE_qQRF",
    "outputId": "8a3d2a9f-b1fe-428c-faa3-e440e09dd4b2"
   },
   "outputs": [
    {
     "name": "stdout",
     "output_type": "stream",
     "text": [
      "sample_data\n"
     ]
    }
   ],
   "source": [
    "!ls"
   ]
  },
  {
   "cell_type": "code",
   "execution_count": null,
   "metadata": {
    "colab": {
     "base_uri": "https://localhost:8080/",
     "height": 90
    },
    "id": "a3MxkdwcrQPu",
    "outputId": "e35c56b0-b9b2-47c3-cb3c-1e03de98b68e"
   },
   "outputs": [
    {
     "data": {
      "text/html": [
       "\n",
       "     <input type=\"file\" id=\"files-fe40a873-2a6f-4d63-a79c-38435ae3efaa\" name=\"files[]\" multiple disabled\n",
       "        style=\"border:none\" />\n",
       "     <output id=\"result-fe40a873-2a6f-4d63-a79c-38435ae3efaa\">\n",
       "      Upload widget is only available when the cell has been executed in the\n",
       "      current browser session. Please rerun this cell to enable.\n",
       "      </output>\n",
       "      <script>// Copyright 2017 Google LLC\n",
       "//\n",
       "// Licensed under the Apache License, Version 2.0 (the \"License\");\n",
       "// you may not use this file except in compliance with the License.\n",
       "// You may obtain a copy of the License at\n",
       "//\n",
       "//      http://www.apache.org/licenses/LICENSE-2.0\n",
       "//\n",
       "// Unless required by applicable law or agreed to in writing, software\n",
       "// distributed under the License is distributed on an \"AS IS\" BASIS,\n",
       "// WITHOUT WARRANTIES OR CONDITIONS OF ANY KIND, either express or implied.\n",
       "// See the License for the specific language governing permissions and\n",
       "// limitations under the License.\n",
       "\n",
       "/**\n",
       " * @fileoverview Helpers for google.colab Python module.\n",
       " */\n",
       "(function(scope) {\n",
       "function span(text, styleAttributes = {}) {\n",
       "  const element = document.createElement('span');\n",
       "  element.textContent = text;\n",
       "  for (const key of Object.keys(styleAttributes)) {\n",
       "    element.style[key] = styleAttributes[key];\n",
       "  }\n",
       "  return element;\n",
       "}\n",
       "\n",
       "// Max number of bytes which will be uploaded at a time.\n",
       "const MAX_PAYLOAD_SIZE = 100 * 1024;\n",
       "\n",
       "function _uploadFiles(inputId, outputId) {\n",
       "  const steps = uploadFilesStep(inputId, outputId);\n",
       "  const outputElement = document.getElementById(outputId);\n",
       "  // Cache steps on the outputElement to make it available for the next call\n",
       "  // to uploadFilesContinue from Python.\n",
       "  outputElement.steps = steps;\n",
       "\n",
       "  return _uploadFilesContinue(outputId);\n",
       "}\n",
       "\n",
       "// This is roughly an async generator (not supported in the browser yet),\n",
       "// where there are multiple asynchronous steps and the Python side is going\n",
       "// to poll for completion of each step.\n",
       "// This uses a Promise to block the python side on completion of each step,\n",
       "// then passes the result of the previous step as the input to the next step.\n",
       "function _uploadFilesContinue(outputId) {\n",
       "  const outputElement = document.getElementById(outputId);\n",
       "  const steps = outputElement.steps;\n",
       "\n",
       "  const next = steps.next(outputElement.lastPromiseValue);\n",
       "  return Promise.resolve(next.value.promise).then((value) => {\n",
       "    // Cache the last promise value to make it available to the next\n",
       "    // step of the generator.\n",
       "    outputElement.lastPromiseValue = value;\n",
       "    return next.value.response;\n",
       "  });\n",
       "}\n",
       "\n",
       "/**\n",
       " * Generator function which is called between each async step of the upload\n",
       " * process.\n",
       " * @param {string} inputId Element ID of the input file picker element.\n",
       " * @param {string} outputId Element ID of the output display.\n",
       " * @return {!Iterable<!Object>} Iterable of next steps.\n",
       " */\n",
       "function* uploadFilesStep(inputId, outputId) {\n",
       "  const inputElement = document.getElementById(inputId);\n",
       "  inputElement.disabled = false;\n",
       "\n",
       "  const outputElement = document.getElementById(outputId);\n",
       "  outputElement.innerHTML = '';\n",
       "\n",
       "  const pickedPromise = new Promise((resolve) => {\n",
       "    inputElement.addEventListener('change', (e) => {\n",
       "      resolve(e.target.files);\n",
       "    });\n",
       "  });\n",
       "\n",
       "  const cancel = document.createElement('button');\n",
       "  inputElement.parentElement.appendChild(cancel);\n",
       "  cancel.textContent = 'Cancel upload';\n",
       "  const cancelPromise = new Promise((resolve) => {\n",
       "    cancel.onclick = () => {\n",
       "      resolve(null);\n",
       "    };\n",
       "  });\n",
       "\n",
       "  // Wait for the user to pick the files.\n",
       "  const files = yield {\n",
       "    promise: Promise.race([pickedPromise, cancelPromise]),\n",
       "    response: {\n",
       "      action: 'starting',\n",
       "    }\n",
       "  };\n",
       "\n",
       "  cancel.remove();\n",
       "\n",
       "  // Disable the input element since further picks are not allowed.\n",
       "  inputElement.disabled = true;\n",
       "\n",
       "  if (!files) {\n",
       "    return {\n",
       "      response: {\n",
       "        action: 'complete',\n",
       "      }\n",
       "    };\n",
       "  }\n",
       "\n",
       "  for (const file of files) {\n",
       "    const li = document.createElement('li');\n",
       "    li.append(span(file.name, {fontWeight: 'bold'}));\n",
       "    li.append(span(\n",
       "        `(${file.type || 'n/a'}) - ${file.size} bytes, ` +\n",
       "        `last modified: ${\n",
       "            file.lastModifiedDate ? file.lastModifiedDate.toLocaleDateString() :\n",
       "                                    'n/a'} - `));\n",
       "    const percent = span('0% done');\n",
       "    li.appendChild(percent);\n",
       "\n",
       "    outputElement.appendChild(li);\n",
       "\n",
       "    const fileDataPromise = new Promise((resolve) => {\n",
       "      const reader = new FileReader();\n",
       "      reader.onload = (e) => {\n",
       "        resolve(e.target.result);\n",
       "      };\n",
       "      reader.readAsArrayBuffer(file);\n",
       "    });\n",
       "    // Wait for the data to be ready.\n",
       "    let fileData = yield {\n",
       "      promise: fileDataPromise,\n",
       "      response: {\n",
       "        action: 'continue',\n",
       "      }\n",
       "    };\n",
       "\n",
       "    // Use a chunked sending to avoid message size limits. See b/62115660.\n",
       "    let position = 0;\n",
       "    do {\n",
       "      const length = Math.min(fileData.byteLength - position, MAX_PAYLOAD_SIZE);\n",
       "      const chunk = new Uint8Array(fileData, position, length);\n",
       "      position += length;\n",
       "\n",
       "      const base64 = btoa(String.fromCharCode.apply(null, chunk));\n",
       "      yield {\n",
       "        response: {\n",
       "          action: 'append',\n",
       "          file: file.name,\n",
       "          data: base64,\n",
       "        },\n",
       "      };\n",
       "\n",
       "      let percentDone = fileData.byteLength === 0 ?\n",
       "          100 :\n",
       "          Math.round((position / fileData.byteLength) * 100);\n",
       "      percent.textContent = `${percentDone}% done`;\n",
       "\n",
       "    } while (position < fileData.byteLength);\n",
       "  }\n",
       "\n",
       "  // All done.\n",
       "  yield {\n",
       "    response: {\n",
       "      action: 'complete',\n",
       "    }\n",
       "  };\n",
       "}\n",
       "\n",
       "scope.google = scope.google || {};\n",
       "scope.google.colab = scope.google.colab || {};\n",
       "scope.google.colab._files = {\n",
       "  _uploadFiles,\n",
       "  _uploadFilesContinue,\n",
       "};\n",
       "})(self);\n",
       "</script> "
      ],
      "text/plain": [
       "<IPython.core.display.HTML object>"
      ]
     },
     "metadata": {},
     "output_type": "display_data"
    },
    {
     "name": "stdout",
     "output_type": "stream",
     "text": [
      "Saving kaggle.json to kaggle.json\n"
     ]
    },
    {
     "data": {
      "text/plain": [
       "{'kaggle.json': b'{\"username\":\"noorjemmali\",\"key\":\"8599fe9994313b79f1dba7ba63e40ea6\"}'}"
      ]
     },
     "execution_count": 25,
     "metadata": {},
     "output_type": "execute_result"
    }
   ],
   "source": [
    " from google.colab import files\n",
    "\n",
    "files.upload()"
   ]
  },
  {
   "cell_type": "code",
   "execution_count": null,
   "metadata": {
    "id": "6OBQ4teQtx_Z"
   },
   "outputs": [],
   "source": [
    "! mkdir ~/.kaggle"
   ]
  },
  {
   "cell_type": "code",
   "execution_count": null,
   "metadata": {
    "id": "uwlkqNJxt8nB"
   },
   "outputs": [],
   "source": [
    "! cp kaggle.json /root/.kaggle"
   ]
  },
  {
   "cell_type": "code",
   "execution_count": null,
   "metadata": {
    "id": "UGtADPQ9uECU"
   },
   "outputs": [],
   "source": [
    "! chmod 600 ~/.kaggle/kaggle.json"
   ]
  },
  {
   "cell_type": "code",
   "execution_count": null,
   "metadata": {
    "colab": {
     "base_uri": "https://localhost:8080/"
    },
    "id": "g_llVZSKuzf9",
    "outputId": "35bfd758-5a5f-422d-cabc-463d24487874"
   },
   "outputs": [
    {
     "name": "stdout",
     "output_type": "stream",
     "text": [
      "ref                                                             title                                            size  lastUpdated          downloadCount  voteCount  usabilityRating  \n",
      "--------------------------------------------------------------  ----------------------------------------------  -----  -------------------  -------------  ---------  ---------------  \n",
      "akshaydattatraykhare/diabetes-dataset                           Diabetes Dataset                                  9KB  2022-10-06 08:55:25          10106        324  1.0              \n",
      "whenamancodes/covid-19-coronavirus-pandemic-dataset             COVID -19 Coronavirus Pandemic Dataset           11KB  2022-09-30 04:05:11           8103        260  1.0              \n",
      "stetsondone/video-game-sales-by-genre                           Video Game Sales by Genre                        12KB  2022-10-31 17:56:01            545         23  1.0              \n",
      "hasibalmuzdadid/global-air-pollution-dataset                    Global Air Pollution Dataset                      2MB  2022-11-03 17:23:13            893         36  1.0              \n",
      "whenamancodes/credit-card-customers-prediction                  Credit Card Customers Prediction                379KB  2022-10-30 13:03:27           1010         32  1.0              \n",
      "whenamancodes/students-performance-in-exams                     Students Performance in Exams                     9KB  2022-09-14 15:14:54          14106        267  1.0              \n",
      "akshaydattatraykhare/data-for-admission-in-the-university       Data for Admission in the University              4KB  2022-10-27 11:05:45           1549         37  1.0              \n",
      "michaelbryantds/electric-vehicle-charging-dataset               Electric Vehicle Charging Dataset                98KB  2022-11-02 01:45:23            470         29  0.9411765        \n",
      "maharshipandya/-spotify-tracks-dataset                          🎹 Spotify Tracks Dataset                          8MB  2022-10-22 14:40:15           1930         66  1.0              \n",
      "younver/spotify-top-200-dataset                                 spotify top 200 dataset                           9MB  2022-10-29 19:36:07            539         24  1.0              \n",
      "whenamancodes/amazon-reviews-on-women-dresses                   Amazon Reviews on Women Dresses                   3MB  2022-10-29 12:47:06            343         22  1.0              \n",
      "akshaydattatraykhare/car-details-dataset                        Car Details Dataset                              56KB  2022-10-21 06:11:56           2422         41  1.0              \n",
      "whenamancodes/international-football-from-1872-to-2022          International Football from 1872 to 2022        572KB  2022-10-30 13:27:29            596         28  0.9411765        \n",
      "whenamancodes/customer-personality-analysis                     Company's Ideal Customers | Marketing Strategy   62KB  2022-10-30 14:17:42            762         30  1.0              \n",
      "dimitryzub/walmart-coffee-listings-from-500-stores              Walmart Coffee Listings from 500 stores          85KB  2022-10-25 09:20:12           1178         36  1.0              \n",
      "dheerajmukati/most-runs-in-cricket                              Most Runs in International cricket                4KB  2022-10-16 16:49:20            603         29  1.0              \n",
      "thedevastator/food-prices-year-by-year                          Global Food Prices Year By Year                   7KB  2022-10-30 08:49:55            789         28  1.0              \n",
      "saikumartamminana/gold-price-prediction                         Gold Price Prediction                            41KB  2022-10-30 19:07:30            659         23  0.8235294        \n",
      "thedevastator/udemy-courses-revenue-generation-and-course-anal  Udemy Courses                                   429KB  2022-10-17 00:11:53           1714         55  1.0              \n",
      "whenamancodes/adidas-us-retail-products-dataset                 Adidas US Retail Products Dataset               286KB  2022-10-26 15:44:20            611         33  1.0              \n"
     ]
    }
   ],
   "source": [
    "! kaggle datasets list"
   ]
  },
  {
   "cell_type": "code",
   "execution_count": null,
   "metadata": {
    "id": "lMiCmlcDu3w5"
   },
   "outputs": [],
   "source": [
    "#! kaggle datasets download -d gowrishankarp/newspaper-text-summarization-cnn-dailymail"
   ]
  },
  {
   "cell_type": "code",
   "execution_count": null,
   "metadata": {
    "id": "mbwUZACIvjBm"
   },
   "outputs": [],
   "source": [
    "! mkdir ./data_articles"
   ]
  },
  {
   "cell_type": "code",
   "execution_count": null,
   "metadata": {
    "id": "DQE5cTaYvuU5"
   },
   "outputs": [],
   "source": [
    "#! unzip newspaper-text-summarization-cnn-dailymail.zip"
   ]
  },
  {
   "cell_type": "code",
   "execution_count": null,
   "metadata": {
    "colab": {
     "base_uri": "https://localhost:8080/"
    },
    "id": "q6T8XcvPMjoZ",
    "outputId": "d100fef3-f795-46cb-c572-344dc0d91664"
   },
   "outputs": [
    {
     "name": "stdout",
     "output_type": "stream",
     "text": [
      "Downloading all-the-news.zip to /content\n",
      " 94% 230M/244M [00:01<00:00, 186MB/s]\n",
      "100% 244M/244M [00:01<00:00, 170MB/s]\n"
     ]
    }
   ],
   "source": [
    "! kaggle datasets download -d snapcrack/all-the-news"
   ]
  },
  {
   "cell_type": "code",
   "execution_count": null,
   "metadata": {
    "colab": {
     "base_uri": "https://localhost:8080/"
    },
    "id": "wXDooXq7Mxbq",
    "outputId": "1acdccf0-d0eb-436b-81c7-d81014334131"
   },
   "outputs": [
    {
     "name": "stdout",
     "output_type": "stream",
     "text": [
      "Archive:  /content/all-the-news.zip\n",
      "  inflating: articles1.csv           \n",
      "  inflating: articles2.csv           \n",
      "  inflating: articles3.csv           \n"
     ]
    }
   ],
   "source": [
    "! unzip /content/all-the-news.zip"
   ]
  },
  {
   "cell_type": "markdown",
   "metadata": {
    "id": "S_t-2cVxBHI_"
   },
   "source": [
    "## imports"
   ]
  },
  {
   "cell_type": "code",
   "execution_count": null,
   "metadata": {
    "id": "YES576p1BM2Z"
   },
   "outputs": [],
   "source": [
    "import pandas as pd\n",
    "import re #-> regex library\n",
    "#re.sub(pattern, repl, string, count=0, flags=0)  ##syntax\n",
    "import nltk\n",
    "from nltk.corpus import stopwords\n",
    "import torch   "
   ]
  },
  {
   "cell_type": "markdown",
   "metadata": {
    "id": "WaoKyS0kA752"
   },
   "source": [
    "## data cleaning\n"
   ]
  },
  {
   "cell_type": "code",
   "execution_count": null,
   "metadata": {
    "id": "XMUe_S8sFT19"
   },
   "outputs": [],
   "source": [
    "df_1 = pd.read_csv(\"/content/articles1.csv\")"
   ]
  },
  {
   "cell_type": "code",
   "execution_count": null,
   "metadata": {
    "id": "i2n7i5WYf5BD"
   },
   "outputs": [],
   "source": [
    "df_1.dropna(subset=['content'], inplace = True)\n",
    "df_1.dropna(subset=['title'], inplace = True)\n",
    "df_1.drop_duplicates(inplace = True)\n",
    "df_1.dropna(inplace=True)"
   ]
  },
  {
   "cell_type": "code",
   "execution_count": null,
   "metadata": {
    "id": "f6DFuR0fjQu5"
   },
   "outputs": [],
   "source": [
    "for x in df_1.index:\n",
    "  if len(df_1.loc[x, \"content\"]) < 1000:\n",
    "    df_1.drop(x,inplace=True)"
   ]
  },
  {
   "cell_type": "code",
   "execution_count": null,
   "metadata": {
    "id": "hBIEFHv1lEsW"
   },
   "outputs": [],
   "source": [
    "#df_1['year'] = df_1['year'].astype(int)\n",
    "#df_1['month'] = df_1['month'].astype(int)\n",
    "df_1.drop([\"url\",\"year\",\"month\",\"Unnamed: 0\"],inplace=True,axis=1)"
   ]
  },
  {
   "cell_type": "code",
   "execution_count": null,
   "metadata": {
    "id": "yQwD6fG9lVKl"
   },
   "outputs": [],
   "source": [
    "#df_2=df_1.loc[:,\"\"]\n",
    "df_2=df_1[[\"id\",\"content\"]]\n",
    "df_2\n",
    "d2=df_1.values.tolist()\n",
    "df=df_2.content.str.len().sort_values()"
   ]
  },
  {
   "cell_type": "code",
   "execution_count": null,
   "metadata": {
    "colab": {
     "base_uri": "https://localhost:8080/"
    },
    "id": "1eM06rpuwYas",
    "outputId": "c1f7b1e0-5511-4935-b1a0-0da920c11590"
   },
   "outputs": [
    {
     "data": {
      "text/plain": [
       "42038         1\n",
       "45537         2\n",
       "45341         2\n",
       "45639         2\n",
       "44325         2\n",
       "          ...  \n",
       "18159     73958\n",
       "6407      85948\n",
       "7174      96682\n",
       "22223    119764\n",
       "17533    149346\n",
       "Name: content, Length: 41394, dtype: int64"
      ]
     },
     "execution_count": 64,
     "metadata": {},
     "output_type": "execute_result"
    }
   ],
   "source": [
    "df"
   ]
  },
  {
   "cell_type": "code",
   "execution_count": null,
   "metadata": {
    "id": "x1a9Da14wog7"
   },
   "outputs": [],
   "source": [
    "df_2.content[45537]"
   ]
  },
  {
   "cell_type": "code",
   "execution_count": null,
   "metadata": {
    "id": "nNXjZQBmFow5"
   },
   "outputs": [],
   "source": [
    "l=df_1['content'].values.tolist()\n",
    "l.sort(key=len)\n"
   ]
  },
  {
   "cell_type": "code",
   "execution_count": null,
   "metadata": {
    "id": "V9YiniX9d8em"
   },
   "outputs": [],
   "source": [
    "len(l)"
   ]
  },
  {
   "cell_type": "markdown",
   "metadata": {
    "id": "RuTSM47tBOnL"
   },
   "source": [
    "## text cleaning"
   ]
  },
  {
   "cell_type": "code",
   "execution_count": null,
   "metadata": {
    "id": "6doE6LBQ1ubv"
   },
   "outputs": [],
   "source": [
    "\n",
    "contraction_mapping = {\"ain't\": \"is not\", \"aren't\": \"are not\",\"can't\": \"cannot\", \"'cause\": \"because\", \"could've\": \"could have\", \"couldn't\": \"could not\",\n",
    "\n",
    "                           \"didn't\": \"did not\", \"doesn't\": \"does not\", \"don't\": \"do not\", \"hadn't\": \"had not\", \"hasn't\": \"has not\", \"haven't\": \"have not\",\n",
    "\n",
    "                           \"he'd\": \"he would\",\"he'll\": \"he will\", \"he's\": \"he is\", \"how'd\": \"how did\", \"how'd'y\": \"how do you\", \"how'll\": \"how will\", \"how's\": \"how is\",\n",
    "\n",
    "                           \"I'd\": \"I would\", \"I'd've\": \"I would have\", \"I'll\": \"I will\", \"I'll've\": \"I will have\",\"I'm\": \"I am\", \"I've\": \"I have\", \"i'd\": \"i would\",\n",
    "\n",
    "                           \"i'd've\": \"i would have\", \"i'll\": \"i will\",  \"i'll've\": \"i will have\",\"i'm\": \"i am\", \"i've\": \"i have\", \"isn't\": \"is not\", \"it'd\": \"it would\",\n",
    "\n",
    "                           \"it'd've\": \"it would have\", \"it'll\": \"it will\", \"it'll've\": \"it will have\",\"it's\": \"it is\", \"let's\": \"let us\", \"ma'am\": \"madam\",\n",
    "\n",
    "                           \"mayn't\": \"may not\", \"might've\": \"might have\",\"mightn't\": \"might not\",\"mightn't've\": \"might not have\", \"must've\": \"must have\",\n",
    "\n",
    "                           \"mustn't\": \"must not\", \"mustn't've\": \"must not have\", \"needn't\": \"need not\", \"needn't've\": \"need not have\",\"o'clock\": \"of the clock\",\n",
    "\n",
    "                           \"oughtn't\": \"ought not\", \"oughtn't've\": \"ought not have\", \"shan't\": \"shall not\", \"sha'n't\": \"shall not\", \"shan't've\": \"shall not have\",\n",
    "\n",
    "                           \"she'd\": \"she would\", \"she'd've\": \"she would have\", \"she'll\": \"she will\", \"she'll've\": \"she will have\", \"she's\": \"she is\",\n",
    "\n",
    "                           \"should've\": \"should have\", \"shouldn't\": \"should not\", \"shouldn't've\": \"should not have\", \"so've\": \"so have\",\"so's\": \"so as\",\n",
    "\n",
    "                           \"this's\": \"this is\",\"that'd\": \"that would\", \"that'd've\": \"that would have\", \"that's\": \"that is\", \"there'd\": \"there would\",\n",
    "\n",
    "                           \"there'd've\": \"there would have\", \"there's\": \"there is\", \"here's\": \"here is\",\"they'd\": \"they would\", \"they'd've\": \"they would have\",\n",
    "\n",
    "                           \"they'll\": \"they will\", \"they'll've\": \"they will have\", \"they're\": \"they are\", \"they've\": \"they have\", \"to've\": \"to have\",\n",
    "\n",
    "                           \"wasn't\": \"was not\", \"we'd\": \"we would\", \"we'd've\": \"we would have\", \"we'll\": \"we will\", \"we'll've\": \"we will have\", \"we're\": \"we are\",\n",
    "\n",
    "                           \"we've\": \"we have\", \"weren't\": \"were not\", \"what'll\": \"what will\", \"what'll've\": \"what will have\", \"what're\": \"what are\",\n",
    "\n",
    "                           \"what's\": \"what is\", \"what've\": \"what have\", \"when's\": \"when is\", \"when've\": \"when have\", \"where'd\": \"where did\", \"where's\": \"where is\",\n",
    "\n",
    "                           \"where've\": \"where have\", \"who'll\": \"who will\", \"who'll've\": \"who will have\", \"who's\": \"who is\", \"who've\": \"who have\",\n",
    "\n",
    "                           \"why's\": \"why is\", \"why've\": \"why have\", \"will've\": \"will have\", \"won't\": \"will not\", \"won't've\": \"will not have\",\n",
    "\n",
    "                           \"would've\": \"would have\", \"wouldn't\": \"would not\", \"wouldn't've\": \"would not have\", \"y'all\": \"you all\",\n",
    "\n",
    "                           \"y'all'd\": \"you all would\",\"y'all'd've\": \"you all would have\",\"y'all're\": \"you all are\",\"y'all've\": \"you all have\",\n",
    "\n",
    "                           \"you'd\": \"you would\", \"you'd've\": \"you would have\", \"you'll\": \"you will\", \"you'll've\": \"you will have\",\n",
    "\n",
    "                           \"you're\": \"you are\", \"you've\": \"you have\"}"
   ]
  },
  {
   "cell_type": "code",
   "execution_count": null,
   "metadata": {
    "id": "zhQR6X9MBQH-"
   },
   "outputs": [],
   "source": [
    "text=l[1000]"
   ]
  },
  {
   "cell_type": "code",
   "execution_count": null,
   "metadata": {
    "colab": {
     "base_uri": "https://localhost:8080/",
     "height": 140
    },
    "id": "GDMReQI7tN66",
    "outputId": "f44bbef6-a471-447d-f96b-9317e7b00477"
   },
   "outputs": [
    {
     "data": {
      "application/vnd.google.colaboratory.intrinsic+json": {
       "type": "string"
      },
      "text/plain": [
       "'’SpaceX made history on Friday by landing its Falcon 9 rocket back on a barge in the middle of the Atlantic Ocean.’ ’The Falcon 9 launched out of Cape Canaveral, Florida.’ ”The goal of the launch was to send the Dragon cargo spacecraft up to the International Space Station (ISS) where, among other things, it’ll drop off an   module.” ’’ ’’ ”Here’s a   of the landing. Practically hit the center!” ’’ ’After that, the Falcon 9 rocket aimed to stick the landing on a barge in the Atlantic Ocean, called ”Of Course I Still Love You.” ().’ ’After four failed attempts, it was successful.’ ’’ ’’ ’’ ’’ ’SpaceX made history on Friday by landing its. ..’'"
      ]
     },
     "execution_count": 46,
     "metadata": {},
     "output_type": "execute_result"
    }
   ],
   "source": [
    "text"
   ]
  },
  {
   "cell_type": "markdown",
   "metadata": {
    "id": "UvyKmhhj6bYw"
   },
   "source": [
    "### Normalization"
   ]
  },
  {
   "cell_type": "code",
   "execution_count": null,
   "metadata": {
    "id": "nGlse8wEonhm"
   },
   "outputs": [],
   "source": [
    "#text=re.sub(r\"(http[s]?\\://\\S+)|:|[0-9]|[\\\"\\-|\\(\\)_—\\[\\]”“…\\.,\\?!=\\+{}\\$\\^]|([#@]\\S+)|\\n\", \"\",text)\n",
    "text = text.lower()\n",
    "#Remove any text inside the parenthesis()\n",
    "text = re.sub(r'\\([^)]*\\)','', text)\n",
    "#contraction mapping\n",
    "text = ' '.join([contraction_mapping[t] if t in contraction_mapping else t for t in text.split(\" \")])\n",
    "#Remove (‘s)\n",
    "text = re.sub(r\"['’‘]s\\b\",\"\",text)\n",
    "text = re.sub(\"[^a-zA-Z]\", \" \", text)\n"
   ]
  },
  {
   "cell_type": "code",
   "execution_count": null,
   "metadata": {
    "id": "cHcCes3hum7d"
   },
   "outputs": [],
   "source": [
    "text=re.sub('\\s+|[\\'’]',' ',text)"
   ]
  },
  {
   "cell_type": "markdown",
   "metadata": {
    "id": "HfxxSXSlozLc"
   },
   "source": [
    "### Stop Words"
   ]
  },
  {
   "cell_type": "code",
   "execution_count": null,
   "metadata": {
    "colab": {
     "base_uri": "https://localhost:8080/"
    },
    "id": "Cv0HaIv-o1pt",
    "outputId": "839b7f13-4123-47b7-a339-1022a361e7b8"
   },
   "outputs": [
    {
     "name": "stderr",
     "output_type": "stream",
     "text": [
      "[nltk_data] Downloading package stopwords to /root/nltk_data...\n",
      "[nltk_data]   Unzipping corpora/stopwords.zip.\n"
     ]
    },
    {
     "data": {
      "text/plain": [
       "True"
      ]
     },
     "execution_count": 49,
     "metadata": {},
     "output_type": "execute_result"
    }
   ],
   "source": [
    "nltk.download('stopwords')"
   ]
  },
  {
   "cell_type": "code",
   "execution_count": null,
   "metadata": {
    "id": "p22toiBp0MV0"
   },
   "outputs": [],
   "source": [
    "stop_words = set(stopwords.words('english'))"
   ]
  },
  {
   "cell_type": "code",
   "execution_count": null,
   "metadata": {
    "id": "xetl3jsD6iSO"
   },
   "outputs": [],
   "source": [
    "tokens = [w for w in text.split() if not w in stop_words]"
   ]
  },
  {
   "cell_type": "code",
   "execution_count": null,
   "metadata": {
    "id": "u8H9uzhq6tPv"
   },
   "outputs": [],
   "source": [
    "#removing short word\n",
    "long_words=[]\n",
    "for i in tokens:\n",
    "    if len(i)>=3:                  \n",
    "    long_words.append(i)   \n",
    "text=(\" \".join(long_words)).strip()"
   ]
  },
  {
   "cell_type": "markdown",
   "metadata": {
    "id": "wU1RjDciq3Hp"
   },
   "source": [
    "## Summarization"
   ]
  },
  {
   "cell_type": "markdown",
   "metadata": {
    "id": "WSjuRNFKrDwO"
   },
   "source": [
    "### BART (good but has limitation for long texts ☹ )"
   ]
  },
  {
   "cell_type": "code",
   "execution_count": null,
   "metadata": {
    "id": "NLv2BSB0q50x"
   },
   "outputs": [],
   "source": [
    "# Importing the model\n",
    "from transformers import BartForConditionalGeneration, BartTokenizer, BartConfig, pipeline\n",
    "# Loading the model and tokenizer for bart-large-cnn\n",
    "summarization = pipeline(\"summarization\")\n",
    "summarizer = pipeline(\"summarization\", model=\"sshleifer/distilbart-cnn-12-6\", tokenizer=\"sshleifer/distilbart-cnn-12-6\", framework=\"pt\")\n",
    "summarizer(text, min_length=50)\n",
    "print(summarizer)"
   ]
  },
  {
   "cell_type": "markdown",
   "metadata": {
    "id": "Cwoxhoe7rNsU"
   },
   "source": []
  },
  {
   "cell_type": "markdown",
   "metadata": {
    "id": "EOgAhlUurPA1"
   },
   "source": [
    "### BERT"
   ]
  },
  {
   "cell_type": "code",
   "execution_count": null,
   "metadata": {
    "id": "GKZQyalprQ_u"
   },
   "outputs": [],
   "source": [
    "!pip install bert-extractive-summarizer"
   ]
  },
  {
   "cell_type": "code",
   "execution_count": null,
   "metadata": {
    "id": "Dmnk1LLhriPb"
   },
   "outputs": [],
   "source": [
    "!pip install  spacy"
   ]
  },
  {
   "cell_type": "code",
   "execution_count": null,
   "metadata": {
    "colab": {
     "base_uri": "https://localhost:8080/",
     "height": 217,
     "referenced_widgets": [
      "7d0f6613dd8e447c8bcaf28ee6981834",
      "859e38bb932849ee94ba3b294acaf2c4",
      "ae0adf841bba445fbcb7d4216031065a",
      "eb3d941b2efa46c0892168d96716b573",
      "9da521ba13d04c3e845358888265d3c7",
      "4524afb2c0ea4045b46cae2ade839593",
      "c2f73f8990914a23b7e22d3445196d89",
      "41d0114fd9f2418787c27d57c0d0ac32",
      "62a2974d8d264c31a01891a39e8a730b",
      "77e707525fee4773bdb6c9979a43f24d",
      "777ce9cc6d334749aaaf7c192e6524bd",
      "61f2e69ad77b421db329803179bc1715",
      "d60adf76da394014b0fe37f1fe8f2f1e",
      "d217d613dd8e483883a22467238789b4",
      "a9f77d4729774ff0916f0507b8c2f2de",
      "95ffb9c3299c4a9c85825da474788343",
      "ba07842e98a04e98b9d02edb3f5e89c6",
      "6c7a2345830943d2bb8317d5b7f045f2",
      "3d25ef2e8ab340869b2ccdab7924a634",
      "9f147398d1af4c35b68e371ae0d4d6e8",
      "f96581b6b8a9486bbc632f8d1a515be5",
      "cecdec9eaaa648318edd1387d385661e",
      "1b8550bfc740437790c336426ab88a9f",
      "9905d22700024cb593aff27824bc65ff",
      "26d9421ae32041e0ab016df3685207da",
      "a325b86b81844639a0a24c7e17034e46",
      "124b27d70948483b9fb8c6b25a46bb77",
      "f56def06c5dd4b36ae92a45222a8cb2e",
      "6d6d6634e043467b898de7abe8963f2d",
      "0015051d7d874457ba2e5de065496322",
      "42c3a62f153144d2ad3a66e571e1b512",
      "66529acc820a4b90954518cb2fdd3b9a",
      "d26be04b6d6e49d79adf154df42607ca",
      "cff669a3b5a04b62a6e107b8685a5205",
      "72b063ee98af4677b591a5f733da480f",
      "0c687d8477e04788b3192a0bc159e9fa",
      "8819a98190ba4247bfd5b55a7bdc3dd0",
      "6ac3183426c74355ad681ca39a5f0efc",
      "3e3e688caea249b6b4c11c1f56e560a9",
      "b79c69061bd0456c92f2310740bb4f11",
      "2165b09b24314b3996b7f2c6ed16c58d",
      "278cad215f504ae3b636c166bed01507",
      "df7bcb6f800d4b948f82249b36cdf484",
      "c9a7870ea83b4361afed7fe905906ad8"
     ]
    },
    "id": "bmpJxUvQrj84",
    "outputId": "076f5b8b-deb4-4895-c118-86fd1ba35241"
   },
   "outputs": [
    {
     "data": {
      "application/vnd.jupyter.widget-view+json": {
       "model_id": "7d0f6613dd8e447c8bcaf28ee6981834",
       "version_major": 2,
       "version_minor": 0
      },
      "text/plain": [
       "Downloading:   0%|          | 0.00/571 [00:00<?, ?B/s]"
      ]
     },
     "metadata": {},
     "output_type": "display_data"
    },
    {
     "data": {
      "application/vnd.jupyter.widget-view+json": {
       "model_id": "61f2e69ad77b421db329803179bc1715",
       "version_major": 2,
       "version_minor": 0
      },
      "text/plain": [
       "Downloading:   0%|          | 0.00/1.34G [00:00<?, ?B/s]"
      ]
     },
     "metadata": {},
     "output_type": "display_data"
    },
    {
     "name": "stderr",
     "output_type": "stream",
     "text": [
      "Some weights of the model checkpoint at bert-large-uncased were not used when initializing BertModel: ['cls.predictions.decoder.weight', 'cls.predictions.transform.dense.weight', 'cls.seq_relationship.weight', 'cls.seq_relationship.bias', 'cls.predictions.transform.LayerNorm.bias', 'cls.predictions.transform.LayerNorm.weight', 'cls.predictions.transform.dense.bias', 'cls.predictions.bias']\n",
      "- This IS expected if you are initializing BertModel from the checkpoint of a model trained on another task or with another architecture (e.g. initializing a BertForSequenceClassification model from a BertForPreTraining model).\n",
      "- This IS NOT expected if you are initializing BertModel from the checkpoint of a model that you expect to be exactly identical (initializing a BertForSequenceClassification model from a BertForSequenceClassification model).\n"
     ]
    },
    {
     "data": {
      "application/vnd.jupyter.widget-view+json": {
       "model_id": "1b8550bfc740437790c336426ab88a9f",
       "version_major": 2,
       "version_minor": 0
      },
      "text/plain": [
       "Downloading:   0%|          | 0.00/232k [00:00<?, ?B/s]"
      ]
     },
     "metadata": {},
     "output_type": "display_data"
    },
    {
     "data": {
      "application/vnd.jupyter.widget-view+json": {
       "model_id": "cff669a3b5a04b62a6e107b8685a5205",
       "version_major": 2,
       "version_minor": 0
      },
      "text/plain": [
       "Downloading:   0%|          | 0.00/28.0 [00:00<?, ?B/s]"
      ]
     },
     "metadata": {},
     "output_type": "display_data"
    }
   ],
   "source": [
    "from summarizer import Summarizer,TransformerSummarizer\n",
    "bert_model = Summarizer()  "
   ]
  },
  {
   "cell_type": "code",
   "execution_count": null,
   "metadata": {
    "colab": {
     "base_uri": "https://localhost:8080/",
     "height": 87
    },
    "id": "Kgd2Af7urv8d",
    "outputId": "800a35b7-c048-4b3b-bfa4-3b8f9039543d"
   },
   "outputs": [
    {
     "data": {
      "application/vnd.google.colaboratory.intrinsic+json": {
       "type": "string"
      },
      "text/plain": [
       "'spacex made history friday landing falcon rocket back barge middle atlantic ocean falcon launched cape canaveral florida goal launch send dragon cargo spacecraft international space station among things drop module landing practically hit center falcon rocket aimed stick landing barge atlantic ocean called course still love four failed attempts successful spacex made history friday landing'"
      ]
     },
     "execution_count": 57,
     "metadata": {},
     "output_type": "execute_result"
    }
   ],
   "source": [
    "bert_summary = bert_model(text,num_sentences=5,min_length=60)\n",
    "bert_summary"
   ]
  },
  {
   "cell_type": "code",
   "execution_count": null,
   "metadata": {
    "id": "0Ylvl6_XsS8E"
   },
   "outputs": [],
   "source": []
  }
 ],
 "metadata": {
  "colab": {
   "collapsed_sections": [
    "muORSnbVbNqJ",
    "cwQz9EeLbNqT",
    "onu-_d7UbNqU",
    "FMs8aw5WbNqU",
    "Fn77MYiKbNqU",
    "dlo-mlTGbNqV",
    "ALpy3IAbbNqV",
    "rTrfY9EzbNqV",
    "6OEr_q8UixFZ",
    "NWo44G_TjWsB",
    "Qn4DwAx8mosy",
    "5m5iYyP-nc5Y",
    "MPfdSQIrpyL1",
    "h_cWEsxZaWiV",
    "niTUWnj6dLwk",
    "u6bC7Pn6eS-D",
    "NNcSJgNnlQF3",
    "_Kn_7DIQnrlq",
    "ivI-AlPbA1ZY",
    "S_t-2cVxBHI_",
    "WaoKyS0kA752",
    "RuTSM47tBOnL",
    "UvyKmhhj6bYw",
    "HfxxSXSlozLc",
    "wU1RjDciq3Hp",
    "WSjuRNFKrDwO",
    "EOgAhlUurPA1"
   ],
   "provenance": []
  },
  "kernelspec": {
   "display_name": "Python 3 (ipykernel)",
   "language": "python",
   "name": "python3"
  },
  "language_info": {
   "codemirror_mode": {
    "name": "ipython",
    "version": 3
   },
   "file_extension": ".py",
   "mimetype": "text/x-python",
   "name": "python",
   "nbconvert_exporter": "python",
   "pygments_lexer": "ipython3",
   "version": "3.9.7"
  },
  "widgets": {
   "application/vnd.jupyter.widget-state+json": {
    "0015051d7d874457ba2e5de065496322": {
     "model_module": "@jupyter-widgets/base",
     "model_module_version": "1.2.0",
     "model_name": "LayoutModel",
     "state": {
      "_model_module": "@jupyter-widgets/base",
      "_model_module_version": "1.2.0",
      "_model_name": "LayoutModel",
      "_view_count": null,
      "_view_module": "@jupyter-widgets/base",
      "_view_module_version": "1.2.0",
      "_view_name": "LayoutView",
      "align_content": null,
      "align_items": null,
      "align_self": null,
      "border": null,
      "bottom": null,
      "display": null,
      "flex": null,
      "flex_flow": null,
      "grid_area": null,
      "grid_auto_columns": null,
      "grid_auto_flow": null,
      "grid_auto_rows": null,
      "grid_column": null,
      "grid_gap": null,
      "grid_row": null,
      "grid_template_areas": null,
      "grid_template_columns": null,
      "grid_template_rows": null,
      "height": null,
      "justify_content": null,
      "justify_items": null,
      "left": null,
      "margin": null,
      "max_height": null,
      "max_width": null,
      "min_height": null,
      "min_width": null,
      "object_fit": null,
      "object_position": null,
      "order": null,
      "overflow": null,
      "overflow_x": null,
      "overflow_y": null,
      "padding": null,
      "right": null,
      "top": null,
      "visibility": null,
      "width": null
     }
    },
    "0c687d8477e04788b3192a0bc159e9fa": {
     "model_module": "@jupyter-widgets/controls",
     "model_module_version": "1.5.0",
     "model_name": "FloatProgressModel",
     "state": {
      "_dom_classes": [],
      "_model_module": "@jupyter-widgets/controls",
      "_model_module_version": "1.5.0",
      "_model_name": "FloatProgressModel",
      "_view_count": null,
      "_view_module": "@jupyter-widgets/controls",
      "_view_module_version": "1.5.0",
      "_view_name": "ProgressView",
      "bar_style": "success",
      "description": "",
      "description_tooltip": null,
      "layout": "IPY_MODEL_2165b09b24314b3996b7f2c6ed16c58d",
      "max": 28,
      "min": 0,
      "orientation": "horizontal",
      "style": "IPY_MODEL_278cad215f504ae3b636c166bed01507",
      "value": 28
     }
    },
    "124b27d70948483b9fb8c6b25a46bb77": {
     "model_module": "@jupyter-widgets/base",
     "model_module_version": "1.2.0",
     "model_name": "LayoutModel",
     "state": {
      "_model_module": "@jupyter-widgets/base",
      "_model_module_version": "1.2.0",
      "_model_name": "LayoutModel",
      "_view_count": null,
      "_view_module": "@jupyter-widgets/base",
      "_view_module_version": "1.2.0",
      "_view_name": "LayoutView",
      "align_content": null,
      "align_items": null,
      "align_self": null,
      "border": null,
      "bottom": null,
      "display": null,
      "flex": null,
      "flex_flow": null,
      "grid_area": null,
      "grid_auto_columns": null,
      "grid_auto_flow": null,
      "grid_auto_rows": null,
      "grid_column": null,
      "grid_gap": null,
      "grid_row": null,
      "grid_template_areas": null,
      "grid_template_columns": null,
      "grid_template_rows": null,
      "height": null,
      "justify_content": null,
      "justify_items": null,
      "left": null,
      "margin": null,
      "max_height": null,
      "max_width": null,
      "min_height": null,
      "min_width": null,
      "object_fit": null,
      "object_position": null,
      "order": null,
      "overflow": null,
      "overflow_x": null,
      "overflow_y": null,
      "padding": null,
      "right": null,
      "top": null,
      "visibility": null,
      "width": null
     }
    },
    "1b8550bfc740437790c336426ab88a9f": {
     "model_module": "@jupyter-widgets/controls",
     "model_module_version": "1.5.0",
     "model_name": "HBoxModel",
     "state": {
      "_dom_classes": [],
      "_model_module": "@jupyter-widgets/controls",
      "_model_module_version": "1.5.0",
      "_model_name": "HBoxModel",
      "_view_count": null,
      "_view_module": "@jupyter-widgets/controls",
      "_view_module_version": "1.5.0",
      "_view_name": "HBoxView",
      "box_style": "",
      "children": [
       "IPY_MODEL_9905d22700024cb593aff27824bc65ff",
       "IPY_MODEL_26d9421ae32041e0ab016df3685207da",
       "IPY_MODEL_a325b86b81844639a0a24c7e17034e46"
      ],
      "layout": "IPY_MODEL_124b27d70948483b9fb8c6b25a46bb77"
     }
    },
    "2165b09b24314b3996b7f2c6ed16c58d": {
     "model_module": "@jupyter-widgets/base",
     "model_module_version": "1.2.0",
     "model_name": "LayoutModel",
     "state": {
      "_model_module": "@jupyter-widgets/base",
      "_model_module_version": "1.2.0",
      "_model_name": "LayoutModel",
      "_view_count": null,
      "_view_module": "@jupyter-widgets/base",
      "_view_module_version": "1.2.0",
      "_view_name": "LayoutView",
      "align_content": null,
      "align_items": null,
      "align_self": null,
      "border": null,
      "bottom": null,
      "display": null,
      "flex": null,
      "flex_flow": null,
      "grid_area": null,
      "grid_auto_columns": null,
      "grid_auto_flow": null,
      "grid_auto_rows": null,
      "grid_column": null,
      "grid_gap": null,
      "grid_row": null,
      "grid_template_areas": null,
      "grid_template_columns": null,
      "grid_template_rows": null,
      "height": null,
      "justify_content": null,
      "justify_items": null,
      "left": null,
      "margin": null,
      "max_height": null,
      "max_width": null,
      "min_height": null,
      "min_width": null,
      "object_fit": null,
      "object_position": null,
      "order": null,
      "overflow": null,
      "overflow_x": null,
      "overflow_y": null,
      "padding": null,
      "right": null,
      "top": null,
      "visibility": null,
      "width": null
     }
    },
    "26d9421ae32041e0ab016df3685207da": {
     "model_module": "@jupyter-widgets/controls",
     "model_module_version": "1.5.0",
     "model_name": "FloatProgressModel",
     "state": {
      "_dom_classes": [],
      "_model_module": "@jupyter-widgets/controls",
      "_model_module_version": "1.5.0",
      "_model_name": "FloatProgressModel",
      "_view_count": null,
      "_view_module": "@jupyter-widgets/controls",
      "_view_module_version": "1.5.0",
      "_view_name": "ProgressView",
      "bar_style": "success",
      "description": "",
      "description_tooltip": null,
      "layout": "IPY_MODEL_0015051d7d874457ba2e5de065496322",
      "max": 231508,
      "min": 0,
      "orientation": "horizontal",
      "style": "IPY_MODEL_42c3a62f153144d2ad3a66e571e1b512",
      "value": 231508
     }
    },
    "278cad215f504ae3b636c166bed01507": {
     "model_module": "@jupyter-widgets/controls",
     "model_module_version": "1.5.0",
     "model_name": "ProgressStyleModel",
     "state": {
      "_model_module": "@jupyter-widgets/controls",
      "_model_module_version": "1.5.0",
      "_model_name": "ProgressStyleModel",
      "_view_count": null,
      "_view_module": "@jupyter-widgets/base",
      "_view_module_version": "1.2.0",
      "_view_name": "StyleView",
      "bar_color": null,
      "description_width": ""
     }
    },
    "3d25ef2e8ab340869b2ccdab7924a634": {
     "model_module": "@jupyter-widgets/base",
     "model_module_version": "1.2.0",
     "model_name": "LayoutModel",
     "state": {
      "_model_module": "@jupyter-widgets/base",
      "_model_module_version": "1.2.0",
      "_model_name": "LayoutModel",
      "_view_count": null,
      "_view_module": "@jupyter-widgets/base",
      "_view_module_version": "1.2.0",
      "_view_name": "LayoutView",
      "align_content": null,
      "align_items": null,
      "align_self": null,
      "border": null,
      "bottom": null,
      "display": null,
      "flex": null,
      "flex_flow": null,
      "grid_area": null,
      "grid_auto_columns": null,
      "grid_auto_flow": null,
      "grid_auto_rows": null,
      "grid_column": null,
      "grid_gap": null,
      "grid_row": null,
      "grid_template_areas": null,
      "grid_template_columns": null,
      "grid_template_rows": null,
      "height": null,
      "justify_content": null,
      "justify_items": null,
      "left": null,
      "margin": null,
      "max_height": null,
      "max_width": null,
      "min_height": null,
      "min_width": null,
      "object_fit": null,
      "object_position": null,
      "order": null,
      "overflow": null,
      "overflow_x": null,
      "overflow_y": null,
      "padding": null,
      "right": null,
      "top": null,
      "visibility": null,
      "width": null
     }
    },
    "3e3e688caea249b6b4c11c1f56e560a9": {
     "model_module": "@jupyter-widgets/base",
     "model_module_version": "1.2.0",
     "model_name": "LayoutModel",
     "state": {
      "_model_module": "@jupyter-widgets/base",
      "_model_module_version": "1.2.0",
      "_model_name": "LayoutModel",
      "_view_count": null,
      "_view_module": "@jupyter-widgets/base",
      "_view_module_version": "1.2.0",
      "_view_name": "LayoutView",
      "align_content": null,
      "align_items": null,
      "align_self": null,
      "border": null,
      "bottom": null,
      "display": null,
      "flex": null,
      "flex_flow": null,
      "grid_area": null,
      "grid_auto_columns": null,
      "grid_auto_flow": null,
      "grid_auto_rows": null,
      "grid_column": null,
      "grid_gap": null,
      "grid_row": null,
      "grid_template_areas": null,
      "grid_template_columns": null,
      "grid_template_rows": null,
      "height": null,
      "justify_content": null,
      "justify_items": null,
      "left": null,
      "margin": null,
      "max_height": null,
      "max_width": null,
      "min_height": null,
      "min_width": null,
      "object_fit": null,
      "object_position": null,
      "order": null,
      "overflow": null,
      "overflow_x": null,
      "overflow_y": null,
      "padding": null,
      "right": null,
      "top": null,
      "visibility": null,
      "width": null
     }
    },
    "41d0114fd9f2418787c27d57c0d0ac32": {
     "model_module": "@jupyter-widgets/base",
     "model_module_version": "1.2.0",
     "model_name": "LayoutModel",
     "state": {
      "_model_module": "@jupyter-widgets/base",
      "_model_module_version": "1.2.0",
      "_model_name": "LayoutModel",
      "_view_count": null,
      "_view_module": "@jupyter-widgets/base",
      "_view_module_version": "1.2.0",
      "_view_name": "LayoutView",
      "align_content": null,
      "align_items": null,
      "align_self": null,
      "border": null,
      "bottom": null,
      "display": null,
      "flex": null,
      "flex_flow": null,
      "grid_area": null,
      "grid_auto_columns": null,
      "grid_auto_flow": null,
      "grid_auto_rows": null,
      "grid_column": null,
      "grid_gap": null,
      "grid_row": null,
      "grid_template_areas": null,
      "grid_template_columns": null,
      "grid_template_rows": null,
      "height": null,
      "justify_content": null,
      "justify_items": null,
      "left": null,
      "margin": null,
      "max_height": null,
      "max_width": null,
      "min_height": null,
      "min_width": null,
      "object_fit": null,
      "object_position": null,
      "order": null,
      "overflow": null,
      "overflow_x": null,
      "overflow_y": null,
      "padding": null,
      "right": null,
      "top": null,
      "visibility": null,
      "width": null
     }
    },
    "42c3a62f153144d2ad3a66e571e1b512": {
     "model_module": "@jupyter-widgets/controls",
     "model_module_version": "1.5.0",
     "model_name": "ProgressStyleModel",
     "state": {
      "_model_module": "@jupyter-widgets/controls",
      "_model_module_version": "1.5.0",
      "_model_name": "ProgressStyleModel",
      "_view_count": null,
      "_view_module": "@jupyter-widgets/base",
      "_view_module_version": "1.2.0",
      "_view_name": "StyleView",
      "bar_color": null,
      "description_width": ""
     }
    },
    "4524afb2c0ea4045b46cae2ade839593": {
     "model_module": "@jupyter-widgets/base",
     "model_module_version": "1.2.0",
     "model_name": "LayoutModel",
     "state": {
      "_model_module": "@jupyter-widgets/base",
      "_model_module_version": "1.2.0",
      "_model_name": "LayoutModel",
      "_view_count": null,
      "_view_module": "@jupyter-widgets/base",
      "_view_module_version": "1.2.0",
      "_view_name": "LayoutView",
      "align_content": null,
      "align_items": null,
      "align_self": null,
      "border": null,
      "bottom": null,
      "display": null,
      "flex": null,
      "flex_flow": null,
      "grid_area": null,
      "grid_auto_columns": null,
      "grid_auto_flow": null,
      "grid_auto_rows": null,
      "grid_column": null,
      "grid_gap": null,
      "grid_row": null,
      "grid_template_areas": null,
      "grid_template_columns": null,
      "grid_template_rows": null,
      "height": null,
      "justify_content": null,
      "justify_items": null,
      "left": null,
      "margin": null,
      "max_height": null,
      "max_width": null,
      "min_height": null,
      "min_width": null,
      "object_fit": null,
      "object_position": null,
      "order": null,
      "overflow": null,
      "overflow_x": null,
      "overflow_y": null,
      "padding": null,
      "right": null,
      "top": null,
      "visibility": null,
      "width": null
     }
    },
    "61f2e69ad77b421db329803179bc1715": {
     "model_module": "@jupyter-widgets/controls",
     "model_module_version": "1.5.0",
     "model_name": "HBoxModel",
     "state": {
      "_dom_classes": [],
      "_model_module": "@jupyter-widgets/controls",
      "_model_module_version": "1.5.0",
      "_model_name": "HBoxModel",
      "_view_count": null,
      "_view_module": "@jupyter-widgets/controls",
      "_view_module_version": "1.5.0",
      "_view_name": "HBoxView",
      "box_style": "",
      "children": [
       "IPY_MODEL_d60adf76da394014b0fe37f1fe8f2f1e",
       "IPY_MODEL_d217d613dd8e483883a22467238789b4",
       "IPY_MODEL_a9f77d4729774ff0916f0507b8c2f2de"
      ],
      "layout": "IPY_MODEL_95ffb9c3299c4a9c85825da474788343"
     }
    },
    "62a2974d8d264c31a01891a39e8a730b": {
     "model_module": "@jupyter-widgets/controls",
     "model_module_version": "1.5.0",
     "model_name": "ProgressStyleModel",
     "state": {
      "_model_module": "@jupyter-widgets/controls",
      "_model_module_version": "1.5.0",
      "_model_name": "ProgressStyleModel",
      "_view_count": null,
      "_view_module": "@jupyter-widgets/base",
      "_view_module_version": "1.2.0",
      "_view_name": "StyleView",
      "bar_color": null,
      "description_width": ""
     }
    },
    "66529acc820a4b90954518cb2fdd3b9a": {
     "model_module": "@jupyter-widgets/base",
     "model_module_version": "1.2.0",
     "model_name": "LayoutModel",
     "state": {
      "_model_module": "@jupyter-widgets/base",
      "_model_module_version": "1.2.0",
      "_model_name": "LayoutModel",
      "_view_count": null,
      "_view_module": "@jupyter-widgets/base",
      "_view_module_version": "1.2.0",
      "_view_name": "LayoutView",
      "align_content": null,
      "align_items": null,
      "align_self": null,
      "border": null,
      "bottom": null,
      "display": null,
      "flex": null,
      "flex_flow": null,
      "grid_area": null,
      "grid_auto_columns": null,
      "grid_auto_flow": null,
      "grid_auto_rows": null,
      "grid_column": null,
      "grid_gap": null,
      "grid_row": null,
      "grid_template_areas": null,
      "grid_template_columns": null,
      "grid_template_rows": null,
      "height": null,
      "justify_content": null,
      "justify_items": null,
      "left": null,
      "margin": null,
      "max_height": null,
      "max_width": null,
      "min_height": null,
      "min_width": null,
      "object_fit": null,
      "object_position": null,
      "order": null,
      "overflow": null,
      "overflow_x": null,
      "overflow_y": null,
      "padding": null,
      "right": null,
      "top": null,
      "visibility": null,
      "width": null
     }
    },
    "6ac3183426c74355ad681ca39a5f0efc": {
     "model_module": "@jupyter-widgets/base",
     "model_module_version": "1.2.0",
     "model_name": "LayoutModel",
     "state": {
      "_model_module": "@jupyter-widgets/base",
      "_model_module_version": "1.2.0",
      "_model_name": "LayoutModel",
      "_view_count": null,
      "_view_module": "@jupyter-widgets/base",
      "_view_module_version": "1.2.0",
      "_view_name": "LayoutView",
      "align_content": null,
      "align_items": null,
      "align_self": null,
      "border": null,
      "bottom": null,
      "display": null,
      "flex": null,
      "flex_flow": null,
      "grid_area": null,
      "grid_auto_columns": null,
      "grid_auto_flow": null,
      "grid_auto_rows": null,
      "grid_column": null,
      "grid_gap": null,
      "grid_row": null,
      "grid_template_areas": null,
      "grid_template_columns": null,
      "grid_template_rows": null,
      "height": null,
      "justify_content": null,
      "justify_items": null,
      "left": null,
      "margin": null,
      "max_height": null,
      "max_width": null,
      "min_height": null,
      "min_width": null,
      "object_fit": null,
      "object_position": null,
      "order": null,
      "overflow": null,
      "overflow_x": null,
      "overflow_y": null,
      "padding": null,
      "right": null,
      "top": null,
      "visibility": null,
      "width": null
     }
    },
    "6c7a2345830943d2bb8317d5b7f045f2": {
     "model_module": "@jupyter-widgets/controls",
     "model_module_version": "1.5.0",
     "model_name": "DescriptionStyleModel",
     "state": {
      "_model_module": "@jupyter-widgets/controls",
      "_model_module_version": "1.5.0",
      "_model_name": "DescriptionStyleModel",
      "_view_count": null,
      "_view_module": "@jupyter-widgets/base",
      "_view_module_version": "1.2.0",
      "_view_name": "StyleView",
      "description_width": ""
     }
    },
    "6d6d6634e043467b898de7abe8963f2d": {
     "model_module": "@jupyter-widgets/controls",
     "model_module_version": "1.5.0",
     "model_name": "DescriptionStyleModel",
     "state": {
      "_model_module": "@jupyter-widgets/controls",
      "_model_module_version": "1.5.0",
      "_model_name": "DescriptionStyleModel",
      "_view_count": null,
      "_view_module": "@jupyter-widgets/base",
      "_view_module_version": "1.2.0",
      "_view_name": "StyleView",
      "description_width": ""
     }
    },
    "72b063ee98af4677b591a5f733da480f": {
     "model_module": "@jupyter-widgets/controls",
     "model_module_version": "1.5.0",
     "model_name": "HTMLModel",
     "state": {
      "_dom_classes": [],
      "_model_module": "@jupyter-widgets/controls",
      "_model_module_version": "1.5.0",
      "_model_name": "HTMLModel",
      "_view_count": null,
      "_view_module": "@jupyter-widgets/controls",
      "_view_module_version": "1.5.0",
      "_view_name": "HTMLView",
      "description": "",
      "description_tooltip": null,
      "layout": "IPY_MODEL_3e3e688caea249b6b4c11c1f56e560a9",
      "placeholder": "​",
      "style": "IPY_MODEL_b79c69061bd0456c92f2310740bb4f11",
      "value": "Downloading: 100%"
     }
    },
    "777ce9cc6d334749aaaf7c192e6524bd": {
     "model_module": "@jupyter-widgets/controls",
     "model_module_version": "1.5.0",
     "model_name": "DescriptionStyleModel",
     "state": {
      "_model_module": "@jupyter-widgets/controls",
      "_model_module_version": "1.5.0",
      "_model_name": "DescriptionStyleModel",
      "_view_count": null,
      "_view_module": "@jupyter-widgets/base",
      "_view_module_version": "1.2.0",
      "_view_name": "StyleView",
      "description_width": ""
     }
    },
    "77e707525fee4773bdb6c9979a43f24d": {
     "model_module": "@jupyter-widgets/base",
     "model_module_version": "1.2.0",
     "model_name": "LayoutModel",
     "state": {
      "_model_module": "@jupyter-widgets/base",
      "_model_module_version": "1.2.0",
      "_model_name": "LayoutModel",
      "_view_count": null,
      "_view_module": "@jupyter-widgets/base",
      "_view_module_version": "1.2.0",
      "_view_name": "LayoutView",
      "align_content": null,
      "align_items": null,
      "align_self": null,
      "border": null,
      "bottom": null,
      "display": null,
      "flex": null,
      "flex_flow": null,
      "grid_area": null,
      "grid_auto_columns": null,
      "grid_auto_flow": null,
      "grid_auto_rows": null,
      "grid_column": null,
      "grid_gap": null,
      "grid_row": null,
      "grid_template_areas": null,
      "grid_template_columns": null,
      "grid_template_rows": null,
      "height": null,
      "justify_content": null,
      "justify_items": null,
      "left": null,
      "margin": null,
      "max_height": null,
      "max_width": null,
      "min_height": null,
      "min_width": null,
      "object_fit": null,
      "object_position": null,
      "order": null,
      "overflow": null,
      "overflow_x": null,
      "overflow_y": null,
      "padding": null,
      "right": null,
      "top": null,
      "visibility": null,
      "width": null
     }
    },
    "7d0f6613dd8e447c8bcaf28ee6981834": {
     "model_module": "@jupyter-widgets/controls",
     "model_module_version": "1.5.0",
     "model_name": "HBoxModel",
     "state": {
      "_dom_classes": [],
      "_model_module": "@jupyter-widgets/controls",
      "_model_module_version": "1.5.0",
      "_model_name": "HBoxModel",
      "_view_count": null,
      "_view_module": "@jupyter-widgets/controls",
      "_view_module_version": "1.5.0",
      "_view_name": "HBoxView",
      "box_style": "",
      "children": [
       "IPY_MODEL_859e38bb932849ee94ba3b294acaf2c4",
       "IPY_MODEL_ae0adf841bba445fbcb7d4216031065a",
       "IPY_MODEL_eb3d941b2efa46c0892168d96716b573"
      ],
      "layout": "IPY_MODEL_9da521ba13d04c3e845358888265d3c7"
     }
    },
    "859e38bb932849ee94ba3b294acaf2c4": {
     "model_module": "@jupyter-widgets/controls",
     "model_module_version": "1.5.0",
     "model_name": "HTMLModel",
     "state": {
      "_dom_classes": [],
      "_model_module": "@jupyter-widgets/controls",
      "_model_module_version": "1.5.0",
      "_model_name": "HTMLModel",
      "_view_count": null,
      "_view_module": "@jupyter-widgets/controls",
      "_view_module_version": "1.5.0",
      "_view_name": "HTMLView",
      "description": "",
      "description_tooltip": null,
      "layout": "IPY_MODEL_4524afb2c0ea4045b46cae2ade839593",
      "placeholder": "​",
      "style": "IPY_MODEL_c2f73f8990914a23b7e22d3445196d89",
      "value": "Downloading: 100%"
     }
    },
    "8819a98190ba4247bfd5b55a7bdc3dd0": {
     "model_module": "@jupyter-widgets/controls",
     "model_module_version": "1.5.0",
     "model_name": "HTMLModel",
     "state": {
      "_dom_classes": [],
      "_model_module": "@jupyter-widgets/controls",
      "_model_module_version": "1.5.0",
      "_model_name": "HTMLModel",
      "_view_count": null,
      "_view_module": "@jupyter-widgets/controls",
      "_view_module_version": "1.5.0",
      "_view_name": "HTMLView",
      "description": "",
      "description_tooltip": null,
      "layout": "IPY_MODEL_df7bcb6f800d4b948f82249b36cdf484",
      "placeholder": "​",
      "style": "IPY_MODEL_c9a7870ea83b4361afed7fe905906ad8",
      "value": " 28.0/28.0 [00:00&lt;00:00, 312B/s]"
     }
    },
    "95ffb9c3299c4a9c85825da474788343": {
     "model_module": "@jupyter-widgets/base",
     "model_module_version": "1.2.0",
     "model_name": "LayoutModel",
     "state": {
      "_model_module": "@jupyter-widgets/base",
      "_model_module_version": "1.2.0",
      "_model_name": "LayoutModel",
      "_view_count": null,
      "_view_module": "@jupyter-widgets/base",
      "_view_module_version": "1.2.0",
      "_view_name": "LayoutView",
      "align_content": null,
      "align_items": null,
      "align_self": null,
      "border": null,
      "bottom": null,
      "display": null,
      "flex": null,
      "flex_flow": null,
      "grid_area": null,
      "grid_auto_columns": null,
      "grid_auto_flow": null,
      "grid_auto_rows": null,
      "grid_column": null,
      "grid_gap": null,
      "grid_row": null,
      "grid_template_areas": null,
      "grid_template_columns": null,
      "grid_template_rows": null,
      "height": null,
      "justify_content": null,
      "justify_items": null,
      "left": null,
      "margin": null,
      "max_height": null,
      "max_width": null,
      "min_height": null,
      "min_width": null,
      "object_fit": null,
      "object_position": null,
      "order": null,
      "overflow": null,
      "overflow_x": null,
      "overflow_y": null,
      "padding": null,
      "right": null,
      "top": null,
      "visibility": null,
      "width": null
     }
    },
    "9905d22700024cb593aff27824bc65ff": {
     "model_module": "@jupyter-widgets/controls",
     "model_module_version": "1.5.0",
     "model_name": "HTMLModel",
     "state": {
      "_dom_classes": [],
      "_model_module": "@jupyter-widgets/controls",
      "_model_module_version": "1.5.0",
      "_model_name": "HTMLModel",
      "_view_count": null,
      "_view_module": "@jupyter-widgets/controls",
      "_view_module_version": "1.5.0",
      "_view_name": "HTMLView",
      "description": "",
      "description_tooltip": null,
      "layout": "IPY_MODEL_f56def06c5dd4b36ae92a45222a8cb2e",
      "placeholder": "​",
      "style": "IPY_MODEL_6d6d6634e043467b898de7abe8963f2d",
      "value": "Downloading: 100%"
     }
    },
    "9da521ba13d04c3e845358888265d3c7": {
     "model_module": "@jupyter-widgets/base",
     "model_module_version": "1.2.0",
     "model_name": "LayoutModel",
     "state": {
      "_model_module": "@jupyter-widgets/base",
      "_model_module_version": "1.2.0",
      "_model_name": "LayoutModel",
      "_view_count": null,
      "_view_module": "@jupyter-widgets/base",
      "_view_module_version": "1.2.0",
      "_view_name": "LayoutView",
      "align_content": null,
      "align_items": null,
      "align_self": null,
      "border": null,
      "bottom": null,
      "display": null,
      "flex": null,
      "flex_flow": null,
      "grid_area": null,
      "grid_auto_columns": null,
      "grid_auto_flow": null,
      "grid_auto_rows": null,
      "grid_column": null,
      "grid_gap": null,
      "grid_row": null,
      "grid_template_areas": null,
      "grid_template_columns": null,
      "grid_template_rows": null,
      "height": null,
      "justify_content": null,
      "justify_items": null,
      "left": null,
      "margin": null,
      "max_height": null,
      "max_width": null,
      "min_height": null,
      "min_width": null,
      "object_fit": null,
      "object_position": null,
      "order": null,
      "overflow": null,
      "overflow_x": null,
      "overflow_y": null,
      "padding": null,
      "right": null,
      "top": null,
      "visibility": null,
      "width": null
     }
    },
    "9f147398d1af4c35b68e371ae0d4d6e8": {
     "model_module": "@jupyter-widgets/controls",
     "model_module_version": "1.5.0",
     "model_name": "ProgressStyleModel",
     "state": {
      "_model_module": "@jupyter-widgets/controls",
      "_model_module_version": "1.5.0",
      "_model_name": "ProgressStyleModel",
      "_view_count": null,
      "_view_module": "@jupyter-widgets/base",
      "_view_module_version": "1.2.0",
      "_view_name": "StyleView",
      "bar_color": null,
      "description_width": ""
     }
    },
    "a325b86b81844639a0a24c7e17034e46": {
     "model_module": "@jupyter-widgets/controls",
     "model_module_version": "1.5.0",
     "model_name": "HTMLModel",
     "state": {
      "_dom_classes": [],
      "_model_module": "@jupyter-widgets/controls",
      "_model_module_version": "1.5.0",
      "_model_name": "HTMLModel",
      "_view_count": null,
      "_view_module": "@jupyter-widgets/controls",
      "_view_module_version": "1.5.0",
      "_view_name": "HTMLView",
      "description": "",
      "description_tooltip": null,
      "layout": "IPY_MODEL_66529acc820a4b90954518cb2fdd3b9a",
      "placeholder": "​",
      "style": "IPY_MODEL_d26be04b6d6e49d79adf154df42607ca",
      "value": " 232k/232k [00:00&lt;00:00, 583kB/s]"
     }
    },
    "a9f77d4729774ff0916f0507b8c2f2de": {
     "model_module": "@jupyter-widgets/controls",
     "model_module_version": "1.5.0",
     "model_name": "HTMLModel",
     "state": {
      "_dom_classes": [],
      "_model_module": "@jupyter-widgets/controls",
      "_model_module_version": "1.5.0",
      "_model_name": "HTMLModel",
      "_view_count": null,
      "_view_module": "@jupyter-widgets/controls",
      "_view_module_version": "1.5.0",
      "_view_name": "HTMLView",
      "description": "",
      "description_tooltip": null,
      "layout": "IPY_MODEL_f96581b6b8a9486bbc632f8d1a515be5",
      "placeholder": "​",
      "style": "IPY_MODEL_cecdec9eaaa648318edd1387d385661e",
      "value": " 1.34G/1.34G [00:59&lt;00:00, 23.6MB/s]"
     }
    },
    "ae0adf841bba445fbcb7d4216031065a": {
     "model_module": "@jupyter-widgets/controls",
     "model_module_version": "1.5.0",
     "model_name": "FloatProgressModel",
     "state": {
      "_dom_classes": [],
      "_model_module": "@jupyter-widgets/controls",
      "_model_module_version": "1.5.0",
      "_model_name": "FloatProgressModel",
      "_view_count": null,
      "_view_module": "@jupyter-widgets/controls",
      "_view_module_version": "1.5.0",
      "_view_name": "ProgressView",
      "bar_style": "success",
      "description": "",
      "description_tooltip": null,
      "layout": "IPY_MODEL_41d0114fd9f2418787c27d57c0d0ac32",
      "max": 571,
      "min": 0,
      "orientation": "horizontal",
      "style": "IPY_MODEL_62a2974d8d264c31a01891a39e8a730b",
      "value": 571
     }
    },
    "b79c69061bd0456c92f2310740bb4f11": {
     "model_module": "@jupyter-widgets/controls",
     "model_module_version": "1.5.0",
     "model_name": "DescriptionStyleModel",
     "state": {
      "_model_module": "@jupyter-widgets/controls",
      "_model_module_version": "1.5.0",
      "_model_name": "DescriptionStyleModel",
      "_view_count": null,
      "_view_module": "@jupyter-widgets/base",
      "_view_module_version": "1.2.0",
      "_view_name": "StyleView",
      "description_width": ""
     }
    },
    "ba07842e98a04e98b9d02edb3f5e89c6": {
     "model_module": "@jupyter-widgets/base",
     "model_module_version": "1.2.0",
     "model_name": "LayoutModel",
     "state": {
      "_model_module": "@jupyter-widgets/base",
      "_model_module_version": "1.2.0",
      "_model_name": "LayoutModel",
      "_view_count": null,
      "_view_module": "@jupyter-widgets/base",
      "_view_module_version": "1.2.0",
      "_view_name": "LayoutView",
      "align_content": null,
      "align_items": null,
      "align_self": null,
      "border": null,
      "bottom": null,
      "display": null,
      "flex": null,
      "flex_flow": null,
      "grid_area": null,
      "grid_auto_columns": null,
      "grid_auto_flow": null,
      "grid_auto_rows": null,
      "grid_column": null,
      "grid_gap": null,
      "grid_row": null,
      "grid_template_areas": null,
      "grid_template_columns": null,
      "grid_template_rows": null,
      "height": null,
      "justify_content": null,
      "justify_items": null,
      "left": null,
      "margin": null,
      "max_height": null,
      "max_width": null,
      "min_height": null,
      "min_width": null,
      "object_fit": null,
      "object_position": null,
      "order": null,
      "overflow": null,
      "overflow_x": null,
      "overflow_y": null,
      "padding": null,
      "right": null,
      "top": null,
      "visibility": null,
      "width": null
     }
    },
    "c2f73f8990914a23b7e22d3445196d89": {
     "model_module": "@jupyter-widgets/controls",
     "model_module_version": "1.5.0",
     "model_name": "DescriptionStyleModel",
     "state": {
      "_model_module": "@jupyter-widgets/controls",
      "_model_module_version": "1.5.0",
      "_model_name": "DescriptionStyleModel",
      "_view_count": null,
      "_view_module": "@jupyter-widgets/base",
      "_view_module_version": "1.2.0",
      "_view_name": "StyleView",
      "description_width": ""
     }
    },
    "c9a7870ea83b4361afed7fe905906ad8": {
     "model_module": "@jupyter-widgets/controls",
     "model_module_version": "1.5.0",
     "model_name": "DescriptionStyleModel",
     "state": {
      "_model_module": "@jupyter-widgets/controls",
      "_model_module_version": "1.5.0",
      "_model_name": "DescriptionStyleModel",
      "_view_count": null,
      "_view_module": "@jupyter-widgets/base",
      "_view_module_version": "1.2.0",
      "_view_name": "StyleView",
      "description_width": ""
     }
    },
    "cecdec9eaaa648318edd1387d385661e": {
     "model_module": "@jupyter-widgets/controls",
     "model_module_version": "1.5.0",
     "model_name": "DescriptionStyleModel",
     "state": {
      "_model_module": "@jupyter-widgets/controls",
      "_model_module_version": "1.5.0",
      "_model_name": "DescriptionStyleModel",
      "_view_count": null,
      "_view_module": "@jupyter-widgets/base",
      "_view_module_version": "1.2.0",
      "_view_name": "StyleView",
      "description_width": ""
     }
    },
    "cff669a3b5a04b62a6e107b8685a5205": {
     "model_module": "@jupyter-widgets/controls",
     "model_module_version": "1.5.0",
     "model_name": "HBoxModel",
     "state": {
      "_dom_classes": [],
      "_model_module": "@jupyter-widgets/controls",
      "_model_module_version": "1.5.0",
      "_model_name": "HBoxModel",
      "_view_count": null,
      "_view_module": "@jupyter-widgets/controls",
      "_view_module_version": "1.5.0",
      "_view_name": "HBoxView",
      "box_style": "",
      "children": [
       "IPY_MODEL_72b063ee98af4677b591a5f733da480f",
       "IPY_MODEL_0c687d8477e04788b3192a0bc159e9fa",
       "IPY_MODEL_8819a98190ba4247bfd5b55a7bdc3dd0"
      ],
      "layout": "IPY_MODEL_6ac3183426c74355ad681ca39a5f0efc"
     }
    },
    "d217d613dd8e483883a22467238789b4": {
     "model_module": "@jupyter-widgets/controls",
     "model_module_version": "1.5.0",
     "model_name": "FloatProgressModel",
     "state": {
      "_dom_classes": [],
      "_model_module": "@jupyter-widgets/controls",
      "_model_module_version": "1.5.0",
      "_model_name": "FloatProgressModel",
      "_view_count": null,
      "_view_module": "@jupyter-widgets/controls",
      "_view_module_version": "1.5.0",
      "_view_name": "ProgressView",
      "bar_style": "success",
      "description": "",
      "description_tooltip": null,
      "layout": "IPY_MODEL_3d25ef2e8ab340869b2ccdab7924a634",
      "max": 1344997306,
      "min": 0,
      "orientation": "horizontal",
      "style": "IPY_MODEL_9f147398d1af4c35b68e371ae0d4d6e8",
      "value": 1344997306
     }
    },
    "d26be04b6d6e49d79adf154df42607ca": {
     "model_module": "@jupyter-widgets/controls",
     "model_module_version": "1.5.0",
     "model_name": "DescriptionStyleModel",
     "state": {
      "_model_module": "@jupyter-widgets/controls",
      "_model_module_version": "1.5.0",
      "_model_name": "DescriptionStyleModel",
      "_view_count": null,
      "_view_module": "@jupyter-widgets/base",
      "_view_module_version": "1.2.0",
      "_view_name": "StyleView",
      "description_width": ""
     }
    },
    "d60adf76da394014b0fe37f1fe8f2f1e": {
     "model_module": "@jupyter-widgets/controls",
     "model_module_version": "1.5.0",
     "model_name": "HTMLModel",
     "state": {
      "_dom_classes": [],
      "_model_module": "@jupyter-widgets/controls",
      "_model_module_version": "1.5.0",
      "_model_name": "HTMLModel",
      "_view_count": null,
      "_view_module": "@jupyter-widgets/controls",
      "_view_module_version": "1.5.0",
      "_view_name": "HTMLView",
      "description": "",
      "description_tooltip": null,
      "layout": "IPY_MODEL_ba07842e98a04e98b9d02edb3f5e89c6",
      "placeholder": "​",
      "style": "IPY_MODEL_6c7a2345830943d2bb8317d5b7f045f2",
      "value": "Downloading: 100%"
     }
    },
    "df7bcb6f800d4b948f82249b36cdf484": {
     "model_module": "@jupyter-widgets/base",
     "model_module_version": "1.2.0",
     "model_name": "LayoutModel",
     "state": {
      "_model_module": "@jupyter-widgets/base",
      "_model_module_version": "1.2.0",
      "_model_name": "LayoutModel",
      "_view_count": null,
      "_view_module": "@jupyter-widgets/base",
      "_view_module_version": "1.2.0",
      "_view_name": "LayoutView",
      "align_content": null,
      "align_items": null,
      "align_self": null,
      "border": null,
      "bottom": null,
      "display": null,
      "flex": null,
      "flex_flow": null,
      "grid_area": null,
      "grid_auto_columns": null,
      "grid_auto_flow": null,
      "grid_auto_rows": null,
      "grid_column": null,
      "grid_gap": null,
      "grid_row": null,
      "grid_template_areas": null,
      "grid_template_columns": null,
      "grid_template_rows": null,
      "height": null,
      "justify_content": null,
      "justify_items": null,
      "left": null,
      "margin": null,
      "max_height": null,
      "max_width": null,
      "min_height": null,
      "min_width": null,
      "object_fit": null,
      "object_position": null,
      "order": null,
      "overflow": null,
      "overflow_x": null,
      "overflow_y": null,
      "padding": null,
      "right": null,
      "top": null,
      "visibility": null,
      "width": null
     }
    },
    "eb3d941b2efa46c0892168d96716b573": {
     "model_module": "@jupyter-widgets/controls",
     "model_module_version": "1.5.0",
     "model_name": "HTMLModel",
     "state": {
      "_dom_classes": [],
      "_model_module": "@jupyter-widgets/controls",
      "_model_module_version": "1.5.0",
      "_model_name": "HTMLModel",
      "_view_count": null,
      "_view_module": "@jupyter-widgets/controls",
      "_view_module_version": "1.5.0",
      "_view_name": "HTMLView",
      "description": "",
      "description_tooltip": null,
      "layout": "IPY_MODEL_77e707525fee4773bdb6c9979a43f24d",
      "placeholder": "​",
      "style": "IPY_MODEL_777ce9cc6d334749aaaf7c192e6524bd",
      "value": " 571/571 [00:00&lt;00:00, 4.90kB/s]"
     }
    },
    "f56def06c5dd4b36ae92a45222a8cb2e": {
     "model_module": "@jupyter-widgets/base",
     "model_module_version": "1.2.0",
     "model_name": "LayoutModel",
     "state": {
      "_model_module": "@jupyter-widgets/base",
      "_model_module_version": "1.2.0",
      "_model_name": "LayoutModel",
      "_view_count": null,
      "_view_module": "@jupyter-widgets/base",
      "_view_module_version": "1.2.0",
      "_view_name": "LayoutView",
      "align_content": null,
      "align_items": null,
      "align_self": null,
      "border": null,
      "bottom": null,
      "display": null,
      "flex": null,
      "flex_flow": null,
      "grid_area": null,
      "grid_auto_columns": null,
      "grid_auto_flow": null,
      "grid_auto_rows": null,
      "grid_column": null,
      "grid_gap": null,
      "grid_row": null,
      "grid_template_areas": null,
      "grid_template_columns": null,
      "grid_template_rows": null,
      "height": null,
      "justify_content": null,
      "justify_items": null,
      "left": null,
      "margin": null,
      "max_height": null,
      "max_width": null,
      "min_height": null,
      "min_width": null,
      "object_fit": null,
      "object_position": null,
      "order": null,
      "overflow": null,
      "overflow_x": null,
      "overflow_y": null,
      "padding": null,
      "right": null,
      "top": null,
      "visibility": null,
      "width": null
     }
    },
    "f96581b6b8a9486bbc632f8d1a515be5": {
     "model_module": "@jupyter-widgets/base",
     "model_module_version": "1.2.0",
     "model_name": "LayoutModel",
     "state": {
      "_model_module": "@jupyter-widgets/base",
      "_model_module_version": "1.2.0",
      "_model_name": "LayoutModel",
      "_view_count": null,
      "_view_module": "@jupyter-widgets/base",
      "_view_module_version": "1.2.0",
      "_view_name": "LayoutView",
      "align_content": null,
      "align_items": null,
      "align_self": null,
      "border": null,
      "bottom": null,
      "display": null,
      "flex": null,
      "flex_flow": null,
      "grid_area": null,
      "grid_auto_columns": null,
      "grid_auto_flow": null,
      "grid_auto_rows": null,
      "grid_column": null,
      "grid_gap": null,
      "grid_row": null,
      "grid_template_areas": null,
      "grid_template_columns": null,
      "grid_template_rows": null,
      "height": null,
      "justify_content": null,
      "justify_items": null,
      "left": null,
      "margin": null,
      "max_height": null,
      "max_width": null,
      "min_height": null,
      "min_width": null,
      "object_fit": null,
      "object_position": null,
      "order": null,
      "overflow": null,
      "overflow_x": null,
      "overflow_y": null,
      "padding": null,
      "right": null,
      "top": null,
      "visibility": null,
      "width": null
     }
    }
   }
  }
 },
 "nbformat": 4,
 "nbformat_minor": 1
}
